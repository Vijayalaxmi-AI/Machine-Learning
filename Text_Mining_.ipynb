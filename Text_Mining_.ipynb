{
 "cells": [
  {
   "cell_type": "code",
   "execution_count": 1,
   "id": "fb796711",
   "metadata": {
    "ExecuteTime": {
     "end_time": "2023-04-08T12:49:34.759747Z",
     "start_time": "2023-04-08T12:48:13.440276Z"
    }
   },
   "outputs": [],
   "source": [
    "import pandas as pd\n",
    "import nltk\n",
    "from nltk.stem import PorterStemmer, WordNetLemmatizer\n",
    "from nltk.corpus import stopwords\n",
    "from nltk.tokenize import sent_tokenize, word_tokenize\n",
    "import re\n",
    "import string\n",
    "import spacy\n",
    "from spacy import displacy"
   ]
  },
  {
   "cell_type": "code",
   "execution_count": 74,
   "id": "7e9a7af4",
   "metadata": {
    "ExecuteTime": {
     "end_time": "2023-04-08T13:46:17.160851Z",
     "start_time": "2023-04-08T13:46:17.033807Z"
    }
   },
   "outputs": [],
   "source": [
    "EM_sentiment = pd.read_csv('Elon_musk.csv', encoding='ISO-8859-1',index_col=0)"
   ]
  },
  {
   "cell_type": "code",
   "execution_count": 75,
   "id": "8590e4c2",
   "metadata": {
    "ExecuteTime": {
     "end_time": "2023-04-08T13:46:17.690608Z",
     "start_time": "2023-04-08T13:46:17.631600Z"
    }
   },
   "outputs": [
    {
     "data": {
      "text/html": [
       "<div>\n",
       "<style scoped>\n",
       "    .dataframe tbody tr th:only-of-type {\n",
       "        vertical-align: middle;\n",
       "    }\n",
       "\n",
       "    .dataframe tbody tr th {\n",
       "        vertical-align: top;\n",
       "    }\n",
       "\n",
       "    .dataframe thead th {\n",
       "        text-align: right;\n",
       "    }\n",
       "</style>\n",
       "<table border=\"1\" class=\"dataframe\">\n",
       "  <thead>\n",
       "    <tr style=\"text-align: right;\">\n",
       "      <th></th>\n",
       "      <th>Text</th>\n",
       "    </tr>\n",
       "  </thead>\n",
       "  <tbody>\n",
       "    <tr>\n",
       "      <th>1</th>\n",
       "      <td>@kunalb11 Im an alien</td>\n",
       "    </tr>\n",
       "    <tr>\n",
       "      <th>2</th>\n",
       "      <td>@ID_AA_Carmack Ray tracing on Cyberpunk with H...</td>\n",
       "    </tr>\n",
       "    <tr>\n",
       "      <th>3</th>\n",
       "      <td>@joerogan @Spotify Great interview!</td>\n",
       "    </tr>\n",
       "    <tr>\n",
       "      <th>4</th>\n",
       "      <td>@gtera27 Doge is underestimated</td>\n",
       "    </tr>\n",
       "    <tr>\n",
       "      <th>5</th>\n",
       "      <td>@teslacn Congratulations Tesla China for amazi...</td>\n",
       "    </tr>\n",
       "    <tr>\n",
       "      <th>...</th>\n",
       "      <td>...</td>\n",
       "    </tr>\n",
       "    <tr>\n",
       "      <th>1995</th>\n",
       "      <td>@flcnhvy True, it sounds so surreal, but the n...</td>\n",
       "    </tr>\n",
       "    <tr>\n",
       "      <th>1996</th>\n",
       "      <td>@PPathole Make sure to read ur terms &amp;amp; con...</td>\n",
       "    </tr>\n",
       "    <tr>\n",
       "      <th>1997</th>\n",
       "      <td>@TeslaGong @PPathole Samwise Gamgee</td>\n",
       "    </tr>\n",
       "    <tr>\n",
       "      <th>1998</th>\n",
       "      <td>@PPathole Altho Dumb and Dumber is &lt;U+0001F525...</td>\n",
       "    </tr>\n",
       "    <tr>\n",
       "      <th>1999</th>\n",
       "      <td>Progress update August 28</td>\n",
       "    </tr>\n",
       "  </tbody>\n",
       "</table>\n",
       "<p>1999 rows × 1 columns</p>\n",
       "</div>"
      ],
      "text/plain": [
       "                                                   Text\n",
       "1                                @kunalb11 Im an alien\n",
       "2     @ID_AA_Carmack Ray tracing on Cyberpunk with H...\n",
       "3                   @joerogan @Spotify Great interview!\n",
       "4                       @gtera27 Doge is underestimated\n",
       "5     @teslacn Congratulations Tesla China for amazi...\n",
       "...                                                 ...\n",
       "1995  @flcnhvy True, it sounds so surreal, but the n...\n",
       "1996  @PPathole Make sure to read ur terms &amp; con...\n",
       "1997                @TeslaGong @PPathole Samwise Gamgee\n",
       "1998  @PPathole Altho Dumb and Dumber is <U+0001F525...\n",
       "1999                          Progress update August 28\n",
       "\n",
       "[1999 rows x 1 columns]"
      ]
     },
     "execution_count": 75,
     "metadata": {},
     "output_type": "execute_result"
    }
   ],
   "source": [
    "EM_sentiment"
   ]
  },
  {
   "cell_type": "code",
   "execution_count": 76,
   "id": "b0184573",
   "metadata": {
    "ExecuteTime": {
     "end_time": "2023-04-08T13:46:18.399749Z",
     "start_time": "2023-04-08T13:46:18.385745Z"
    }
   },
   "outputs": [
    {
     "data": {
      "text/plain": [
       "1999"
      ]
     },
     "execution_count": 76,
     "metadata": {},
     "output_type": "execute_result"
    }
   ],
   "source": [
    "len(EM_sentiment)"
   ]
  },
  {
   "cell_type": "code",
   "execution_count": 77,
   "id": "046e2d8c",
   "metadata": {
    "ExecuteTime": {
     "end_time": "2023-04-08T13:46:19.281305Z",
     "start_time": "2023-04-08T13:46:19.172296Z"
    },
    "scrolled": true
   },
   "outputs": [],
   "source": [
    "EM_sentiment['Text'] = EM_sentiment['Text'].apply(lambda x: re.sub('@[^\\s]+', '', x))\n",
    "\n",
    "EM_sentiment['Text'] = EM_sentiment['Text'].apply(lambda x: re.sub(r'http\\S+', '', x))\n",
    "\n",
    "EM_sentiment['Text'] = EM_sentiment['Text'].apply(lambda x: x.lower())\n",
    "\n",
    "EM_sentiment['Text'] = EM_sentiment['Text'].apply(lambda x: x.translate(str.maketrans('', '', string.punctuation)))\n",
    "\n",
    "EM_sentiment['Text'] = EM_sentiment['Text'].apply(lambda x: re.sub('[^a-zA-Z0-9\\s]', '', x))"
   ]
  },
  {
   "cell_type": "code",
   "execution_count": 78,
   "id": "fc7445cd",
   "metadata": {
    "ExecuteTime": {
     "end_time": "2023-04-08T13:46:21.576346Z",
     "start_time": "2023-04-08T13:46:21.548334Z"
    }
   },
   "outputs": [
    {
     "data": {
      "text/html": [
       "<div>\n",
       "<style scoped>\n",
       "    .dataframe tbody tr th:only-of-type {\n",
       "        vertical-align: middle;\n",
       "    }\n",
       "\n",
       "    .dataframe tbody tr th {\n",
       "        vertical-align: top;\n",
       "    }\n",
       "\n",
       "    .dataframe thead th {\n",
       "        text-align: right;\n",
       "    }\n",
       "</style>\n",
       "<table border=\"1\" class=\"dataframe\">\n",
       "  <thead>\n",
       "    <tr style=\"text-align: right;\">\n",
       "      <th></th>\n",
       "      <th>Text</th>\n",
       "    </tr>\n",
       "  </thead>\n",
       "  <tbody>\n",
       "    <tr>\n",
       "      <th>1</th>\n",
       "      <td>im an alien</td>\n",
       "    </tr>\n",
       "    <tr>\n",
       "      <th>2</th>\n",
       "      <td>ray tracing on cyberpunk with hdr is nextleve...</td>\n",
       "    </tr>\n",
       "    <tr>\n",
       "      <th>3</th>\n",
       "      <td>great interview</td>\n",
       "    </tr>\n",
       "    <tr>\n",
       "      <th>4</th>\n",
       "      <td>doge is underestimated</td>\n",
       "    </tr>\n",
       "    <tr>\n",
       "      <th>5</th>\n",
       "      <td>congratulations tesla china for amazing execu...</td>\n",
       "    </tr>\n",
       "    <tr>\n",
       "      <th>...</th>\n",
       "      <td>...</td>\n",
       "    </tr>\n",
       "    <tr>\n",
       "      <th>1995</th>\n",
       "      <td>true it sounds so surreal but the negative pr...</td>\n",
       "    </tr>\n",
       "    <tr>\n",
       "      <th>1996</th>\n",
       "      <td>make sure to read ur terms amp conditions bef...</td>\n",
       "    </tr>\n",
       "    <tr>\n",
       "      <th>1997</th>\n",
       "      <td>samwise gamgee</td>\n",
       "    </tr>\n",
       "    <tr>\n",
       "      <th>1998</th>\n",
       "      <td>altho dumb and dumber is u0001f525u0001f525</td>\n",
       "    </tr>\n",
       "    <tr>\n",
       "      <th>1999</th>\n",
       "      <td>progress update august 28</td>\n",
       "    </tr>\n",
       "  </tbody>\n",
       "</table>\n",
       "<p>1999 rows × 1 columns</p>\n",
       "</div>"
      ],
      "text/plain": [
       "                                                   Text\n",
       "1                                           im an alien\n",
       "2      ray tracing on cyberpunk with hdr is nextleve...\n",
       "3                                       great interview\n",
       "4                                doge is underestimated\n",
       "5      congratulations tesla china for amazing execu...\n",
       "...                                                 ...\n",
       "1995   true it sounds so surreal but the negative pr...\n",
       "1996   make sure to read ur terms amp conditions bef...\n",
       "1997                                     samwise gamgee\n",
       "1998        altho dumb and dumber is u0001f525u0001f525\n",
       "1999                          progress update august 28\n",
       "\n",
       "[1999 rows x 1 columns]"
      ]
     },
     "execution_count": 78,
     "metadata": {},
     "output_type": "execute_result"
    }
   ],
   "source": [
    "EM_sentiment"
   ]
  },
  {
   "cell_type": "code",
   "execution_count": 71,
   "id": "ca9651b5",
   "metadata": {
    "ExecuteTime": {
     "end_time": "2023-04-08T13:45:06.026706Z",
     "start_time": "2023-04-08T13:45:06.006694Z"
    }
   },
   "outputs": [],
   "source": [
    "lemma =WordNetLemmatizer()"
   ]
  },
  {
   "cell_type": "code",
   "execution_count": null,
   "id": "4170ec20",
   "metadata": {
    "ExecuteTime": {
     "start_time": "2023-04-08T13:50:35.506Z"
    }
   },
   "outputs": [],
   "source": [
    "corpus = []\n",
    "\n",
    "for text in EM_sentiment['Text']:\n",
    "    txt = re.sub('[^a-zA-Z]',' ', text)\n",
    "    txt = txt.lower()\n",
    "    txt = txt.split()\n",
    "\n",
    "    txt = [lemma.lemmatize(i) for i in txt if not i in stopwords.words('english')]\n",
    "    txt = ' '.join(txt)\n",
    "    corpus.append(txt)"
   ]
  },
  {
   "cell_type": "code",
   "execution_count": 80,
   "id": "ac280fb4",
   "metadata": {
    "ExecuteTime": {
     "end_time": "2023-04-08T13:47:58.167416Z",
     "start_time": "2023-04-08T13:47:58.131423Z"
    }
   },
   "outputs": [
    {
     "data": {
      "text/plain": [
       "[1        im an alien  ray tracing on cyberpunk with hd...\n",
       " 2        im an alien  ray tracing on cyberpunk with hd...\n",
       " 3        im an alien  ray tracing on cyberpunk with hd...\n",
       " 4        im an alien  ray tracing on cyberpunk with hd...\n",
       " 5        im an alien  ray tracing on cyberpunk with hd...\n",
       "                               ...                        \n",
       " 1995     im an alien  ray tracing on cyberpunk with hd...\n",
       " 1996     im an alien  ray tracing on cyberpunk with hd...\n",
       " 1997     im an alien  ray tracing on cyberpunk with hd...\n",
       " 1998     im an alien  ray tracing on cyberpunk with hd...\n",
       " 1999     im an alien  ray tracing on cyberpunk with hd...\n",
       " Name: Text, Length: 1999, dtype: object]"
      ]
     },
     "execution_count": 80,
     "metadata": {},
     "output_type": "execute_result"
    }
   ],
   "source": [
    "corpus"
   ]
  },
  {
   "cell_type": "code",
   "execution_count": null,
   "id": "1e97d94a",
   "metadata": {},
   "outputs": [],
   "source": []
  },
  {
   "cell_type": "code",
   "execution_count": 20,
   "id": "71899752",
   "metadata": {
    "ExecuteTime": {
     "end_time": "2023-04-08T12:56:24.812538Z",
     "start_time": "2023-04-08T12:56:24.745532Z"
    }
   },
   "outputs": [],
   "source": [
    "from sklearn.feature_extraction.text import CountVectorizer, TfidfVectorizer\n",
    "from sklearn.model_selection import train_test_split\n",
    "from sklearn.naive_bayes import MultinomialNB\n",
    "from sklearn.metrics import classification_report\n",
    "from sklearn.svm import LinearSVC"
   ]
  },
  {
   "cell_type": "code",
   "execution_count": 21,
   "id": "ec35a81b",
   "metadata": {
    "ExecuteTime": {
     "end_time": "2023-04-08T12:56:26.864530Z",
     "start_time": "2023-04-08T12:56:26.759530Z"
    }
   },
   "outputs": [],
   "source": [
    "cv = CountVectorizer()\n",
    "x = cv.fit_transform(corpus)"
   ]
  },
  {
   "cell_type": "code",
   "execution_count": 24,
   "id": "39bd12e6",
   "metadata": {
    "ExecuteTime": {
     "end_time": "2023-04-08T12:57:08.447808Z",
     "start_time": "2023-04-08T12:57:08.303824Z"
    }
   },
   "outputs": [
    {
     "data": {
      "text/html": [
       "<div>\n",
       "<style scoped>\n",
       "    .dataframe tbody tr th:only-of-type {\n",
       "        vertical-align: middle;\n",
       "    }\n",
       "\n",
       "    .dataframe tbody tr th {\n",
       "        vertical-align: top;\n",
       "    }\n",
       "\n",
       "    .dataframe thead th {\n",
       "        text-align: right;\n",
       "    }\n",
       "</style>\n",
       "<table border=\"1\" class=\"dataframe\">\n",
       "  <thead>\n",
       "    <tr style=\"text-align: right;\">\n",
       "      <th></th>\n",
       "      <th>ab</th>\n",
       "      <th>aber</th>\n",
       "      <th>able</th>\n",
       "      <th>abo</th>\n",
       "      <th>aboard</th>\n",
       "      <th>abort</th>\n",
       "      <th>absence</th>\n",
       "      <th>absolute</th>\n",
       "      <th>absolutely</th>\n",
       "      <th>absorb</th>\n",
       "      <th>...</th>\n",
       "      <th>young</th>\n",
       "      <th>youre</th>\n",
       "      <th>youve</th>\n",
       "      <th>yup</th>\n",
       "      <th>zealand</th>\n",
       "      <th>zenit</th>\n",
       "      <th>zero</th>\n",
       "      <th>zip</th>\n",
       "      <th>zon</th>\n",
       "      <th>zone</th>\n",
       "    </tr>\n",
       "  </thead>\n",
       "  <tbody>\n",
       "    <tr>\n",
       "      <th>0</th>\n",
       "      <td>0</td>\n",
       "      <td>0</td>\n",
       "      <td>0</td>\n",
       "      <td>0</td>\n",
       "      <td>0</td>\n",
       "      <td>0</td>\n",
       "      <td>0</td>\n",
       "      <td>0</td>\n",
       "      <td>0</td>\n",
       "      <td>0</td>\n",
       "      <td>...</td>\n",
       "      <td>0</td>\n",
       "      <td>0</td>\n",
       "      <td>0</td>\n",
       "      <td>0</td>\n",
       "      <td>0</td>\n",
       "      <td>0</td>\n",
       "      <td>0</td>\n",
       "      <td>0</td>\n",
       "      <td>0</td>\n",
       "      <td>0</td>\n",
       "    </tr>\n",
       "    <tr>\n",
       "      <th>1</th>\n",
       "      <td>0</td>\n",
       "      <td>0</td>\n",
       "      <td>0</td>\n",
       "      <td>0</td>\n",
       "      <td>0</td>\n",
       "      <td>0</td>\n",
       "      <td>0</td>\n",
       "      <td>0</td>\n",
       "      <td>0</td>\n",
       "      <td>0</td>\n",
       "      <td>...</td>\n",
       "      <td>0</td>\n",
       "      <td>0</td>\n",
       "      <td>0</td>\n",
       "      <td>0</td>\n",
       "      <td>0</td>\n",
       "      <td>0</td>\n",
       "      <td>0</td>\n",
       "      <td>0</td>\n",
       "      <td>0</td>\n",
       "      <td>0</td>\n",
       "    </tr>\n",
       "    <tr>\n",
       "      <th>2</th>\n",
       "      <td>0</td>\n",
       "      <td>0</td>\n",
       "      <td>0</td>\n",
       "      <td>0</td>\n",
       "      <td>0</td>\n",
       "      <td>0</td>\n",
       "      <td>0</td>\n",
       "      <td>0</td>\n",
       "      <td>0</td>\n",
       "      <td>0</td>\n",
       "      <td>...</td>\n",
       "      <td>0</td>\n",
       "      <td>0</td>\n",
       "      <td>0</td>\n",
       "      <td>0</td>\n",
       "      <td>0</td>\n",
       "      <td>0</td>\n",
       "      <td>0</td>\n",
       "      <td>0</td>\n",
       "      <td>0</td>\n",
       "      <td>0</td>\n",
       "    </tr>\n",
       "    <tr>\n",
       "      <th>3</th>\n",
       "      <td>0</td>\n",
       "      <td>0</td>\n",
       "      <td>0</td>\n",
       "      <td>0</td>\n",
       "      <td>0</td>\n",
       "      <td>0</td>\n",
       "      <td>0</td>\n",
       "      <td>0</td>\n",
       "      <td>0</td>\n",
       "      <td>0</td>\n",
       "      <td>...</td>\n",
       "      <td>0</td>\n",
       "      <td>0</td>\n",
       "      <td>0</td>\n",
       "      <td>0</td>\n",
       "      <td>0</td>\n",
       "      <td>0</td>\n",
       "      <td>0</td>\n",
       "      <td>0</td>\n",
       "      <td>0</td>\n",
       "      <td>0</td>\n",
       "    </tr>\n",
       "    <tr>\n",
       "      <th>4</th>\n",
       "      <td>0</td>\n",
       "      <td>0</td>\n",
       "      <td>0</td>\n",
       "      <td>0</td>\n",
       "      <td>0</td>\n",
       "      <td>0</td>\n",
       "      <td>0</td>\n",
       "      <td>0</td>\n",
       "      <td>0</td>\n",
       "      <td>0</td>\n",
       "      <td>...</td>\n",
       "      <td>0</td>\n",
       "      <td>0</td>\n",
       "      <td>0</td>\n",
       "      <td>0</td>\n",
       "      <td>0</td>\n",
       "      <td>0</td>\n",
       "      <td>0</td>\n",
       "      <td>0</td>\n",
       "      <td>0</td>\n",
       "      <td>0</td>\n",
       "    </tr>\n",
       "    <tr>\n",
       "      <th>...</th>\n",
       "      <td>...</td>\n",
       "      <td>...</td>\n",
       "      <td>...</td>\n",
       "      <td>...</td>\n",
       "      <td>...</td>\n",
       "      <td>...</td>\n",
       "      <td>...</td>\n",
       "      <td>...</td>\n",
       "      <td>...</td>\n",
       "      <td>...</td>\n",
       "      <td>...</td>\n",
       "      <td>...</td>\n",
       "      <td>...</td>\n",
       "      <td>...</td>\n",
       "      <td>...</td>\n",
       "      <td>...</td>\n",
       "      <td>...</td>\n",
       "      <td>...</td>\n",
       "      <td>...</td>\n",
       "      <td>...</td>\n",
       "      <td>...</td>\n",
       "    </tr>\n",
       "    <tr>\n",
       "      <th>1994</th>\n",
       "      <td>0</td>\n",
       "      <td>0</td>\n",
       "      <td>0</td>\n",
       "      <td>0</td>\n",
       "      <td>0</td>\n",
       "      <td>0</td>\n",
       "      <td>0</td>\n",
       "      <td>0</td>\n",
       "      <td>0</td>\n",
       "      <td>0</td>\n",
       "      <td>...</td>\n",
       "      <td>0</td>\n",
       "      <td>0</td>\n",
       "      <td>0</td>\n",
       "      <td>0</td>\n",
       "      <td>0</td>\n",
       "      <td>0</td>\n",
       "      <td>0</td>\n",
       "      <td>0</td>\n",
       "      <td>0</td>\n",
       "      <td>0</td>\n",
       "    </tr>\n",
       "    <tr>\n",
       "      <th>1995</th>\n",
       "      <td>0</td>\n",
       "      <td>0</td>\n",
       "      <td>0</td>\n",
       "      <td>0</td>\n",
       "      <td>0</td>\n",
       "      <td>0</td>\n",
       "      <td>0</td>\n",
       "      <td>0</td>\n",
       "      <td>0</td>\n",
       "      <td>0</td>\n",
       "      <td>...</td>\n",
       "      <td>0</td>\n",
       "      <td>0</td>\n",
       "      <td>0</td>\n",
       "      <td>0</td>\n",
       "      <td>0</td>\n",
       "      <td>0</td>\n",
       "      <td>0</td>\n",
       "      <td>0</td>\n",
       "      <td>0</td>\n",
       "      <td>0</td>\n",
       "    </tr>\n",
       "    <tr>\n",
       "      <th>1996</th>\n",
       "      <td>0</td>\n",
       "      <td>0</td>\n",
       "      <td>0</td>\n",
       "      <td>0</td>\n",
       "      <td>0</td>\n",
       "      <td>0</td>\n",
       "      <td>0</td>\n",
       "      <td>0</td>\n",
       "      <td>0</td>\n",
       "      <td>0</td>\n",
       "      <td>...</td>\n",
       "      <td>0</td>\n",
       "      <td>0</td>\n",
       "      <td>0</td>\n",
       "      <td>0</td>\n",
       "      <td>0</td>\n",
       "      <td>0</td>\n",
       "      <td>0</td>\n",
       "      <td>0</td>\n",
       "      <td>0</td>\n",
       "      <td>0</td>\n",
       "    </tr>\n",
       "    <tr>\n",
       "      <th>1997</th>\n",
       "      <td>0</td>\n",
       "      <td>0</td>\n",
       "      <td>0</td>\n",
       "      <td>0</td>\n",
       "      <td>0</td>\n",
       "      <td>0</td>\n",
       "      <td>0</td>\n",
       "      <td>0</td>\n",
       "      <td>0</td>\n",
       "      <td>0</td>\n",
       "      <td>...</td>\n",
       "      <td>0</td>\n",
       "      <td>0</td>\n",
       "      <td>0</td>\n",
       "      <td>0</td>\n",
       "      <td>0</td>\n",
       "      <td>0</td>\n",
       "      <td>0</td>\n",
       "      <td>0</td>\n",
       "      <td>0</td>\n",
       "      <td>0</td>\n",
       "    </tr>\n",
       "    <tr>\n",
       "      <th>1998</th>\n",
       "      <td>0</td>\n",
       "      <td>0</td>\n",
       "      <td>0</td>\n",
       "      <td>0</td>\n",
       "      <td>0</td>\n",
       "      <td>0</td>\n",
       "      <td>0</td>\n",
       "      <td>0</td>\n",
       "      <td>0</td>\n",
       "      <td>0</td>\n",
       "      <td>...</td>\n",
       "      <td>0</td>\n",
       "      <td>0</td>\n",
       "      <td>0</td>\n",
       "      <td>0</td>\n",
       "      <td>0</td>\n",
       "      <td>0</td>\n",
       "      <td>0</td>\n",
       "      <td>0</td>\n",
       "      <td>0</td>\n",
       "      <td>0</td>\n",
       "    </tr>\n",
       "  </tbody>\n",
       "</table>\n",
       "<p>1999 rows × 3430 columns</p>\n",
       "</div>"
      ],
      "text/plain": [
       "      ab  aber  able  abo  aboard  abort  absence  absolute  absolutely  \\\n",
       "0      0     0     0    0       0      0        0         0           0   \n",
       "1      0     0     0    0       0      0        0         0           0   \n",
       "2      0     0     0    0       0      0        0         0           0   \n",
       "3      0     0     0    0       0      0        0         0           0   \n",
       "4      0     0     0    0       0      0        0         0           0   \n",
       "...   ..   ...   ...  ...     ...    ...      ...       ...         ...   \n",
       "1994   0     0     0    0       0      0        0         0           0   \n",
       "1995   0     0     0    0       0      0        0         0           0   \n",
       "1996   0     0     0    0       0      0        0         0           0   \n",
       "1997   0     0     0    0       0      0        0         0           0   \n",
       "1998   0     0     0    0       0      0        0         0           0   \n",
       "\n",
       "      absorb  ...  young  youre  youve  yup  zealand  zenit  zero  zip  zon  \\\n",
       "0          0  ...      0      0      0    0        0      0     0    0    0   \n",
       "1          0  ...      0      0      0    0        0      0     0    0    0   \n",
       "2          0  ...      0      0      0    0        0      0     0    0    0   \n",
       "3          0  ...      0      0      0    0        0      0     0    0    0   \n",
       "4          0  ...      0      0      0    0        0      0     0    0    0   \n",
       "...      ...  ...    ...    ...    ...  ...      ...    ...   ...  ...  ...   \n",
       "1994       0  ...      0      0      0    0        0      0     0    0    0   \n",
       "1995       0  ...      0      0      0    0        0      0     0    0    0   \n",
       "1996       0  ...      0      0      0    0        0      0     0    0    0   \n",
       "1997       0  ...      0      0      0    0        0      0     0    0    0   \n",
       "1998       0  ...      0      0      0    0        0      0     0    0    0   \n",
       "\n",
       "      zone  \n",
       "0        0  \n",
       "1        0  \n",
       "2        0  \n",
       "3        0  \n",
       "4        0  \n",
       "...    ...  \n",
       "1994     0  \n",
       "1995     0  \n",
       "1996     0  \n",
       "1997     0  \n",
       "1998     0  \n",
       "\n",
       "[1999 rows x 3430 columns]"
      ]
     },
     "execution_count": 24,
     "metadata": {},
     "output_type": "execute_result"
    }
   ],
   "source": [
    "X = pd.DataFrame(x.toarray(), columns=cv.get_feature_names_out())\n",
    "X"
   ]
  },
  {
   "cell_type": "code",
   "execution_count": 38,
   "id": "ee9c6fd6",
   "metadata": {
    "ExecuteTime": {
     "end_time": "2023-04-08T13:26:44.193741Z",
     "start_time": "2023-04-08T13:26:38.371749Z"
    }
   },
   "outputs": [
    {
     "ename": "KeyError",
     "evalue": "'sentiments'",
     "output_type": "error",
     "traceback": [
      "\u001b[1;31m---------------------------------------------------------------------------\u001b[0m",
      "\u001b[1;31mKeyError\u001b[0m                                  Traceback (most recent call last)",
      "File \u001b[1;32m~\\anaconda3\\lib\\site-packages\\pandas\\core\\indexes\\base.py:3621\u001b[0m, in \u001b[0;36mIndex.get_loc\u001b[1;34m(self, key, method, tolerance)\u001b[0m\n\u001b[0;32m   3620\u001b[0m \u001b[38;5;28;01mtry\u001b[39;00m:\n\u001b[1;32m-> 3621\u001b[0m     \u001b[38;5;28;01mreturn\u001b[39;00m \u001b[38;5;28;43mself\u001b[39;49m\u001b[38;5;241;43m.\u001b[39;49m\u001b[43m_engine\u001b[49m\u001b[38;5;241;43m.\u001b[39;49m\u001b[43mget_loc\u001b[49m\u001b[43m(\u001b[49m\u001b[43mcasted_key\u001b[49m\u001b[43m)\u001b[49m\n\u001b[0;32m   3622\u001b[0m \u001b[38;5;28;01mexcept\u001b[39;00m \u001b[38;5;167;01mKeyError\u001b[39;00m \u001b[38;5;28;01mas\u001b[39;00m err:\n",
      "File \u001b[1;32m~\\anaconda3\\lib\\site-packages\\pandas\\_libs\\index.pyx:136\u001b[0m, in \u001b[0;36mpandas._libs.index.IndexEngine.get_loc\u001b[1;34m()\u001b[0m\n",
      "File \u001b[1;32m~\\anaconda3\\lib\\site-packages\\pandas\\_libs\\index.pyx:163\u001b[0m, in \u001b[0;36mpandas._libs.index.IndexEngine.get_loc\u001b[1;34m()\u001b[0m\n",
      "File \u001b[1;32mpandas\\_libs\\hashtable_class_helper.pxi:5198\u001b[0m, in \u001b[0;36mpandas._libs.hashtable.PyObjectHashTable.get_item\u001b[1;34m()\u001b[0m\n",
      "File \u001b[1;32mpandas\\_libs\\hashtable_class_helper.pxi:5206\u001b[0m, in \u001b[0;36mpandas._libs.hashtable.PyObjectHashTable.get_item\u001b[1;34m()\u001b[0m\n",
      "\u001b[1;31mKeyError\u001b[0m: 'sentiments'",
      "\nThe above exception was the direct cause of the following exception:\n",
      "\u001b[1;31mKeyError\u001b[0m                                  Traceback (most recent call last)",
      "Input \u001b[1;32mIn [38]\u001b[0m, in \u001b[0;36m<cell line: 1>\u001b[1;34m()\u001b[0m\n\u001b[1;32m----> 1\u001b[0m EM_sentiment[\u001b[38;5;124m'\u001b[39m\u001b[38;5;124mlabel\u001b[39m\u001b[38;5;124m'\u001b[39m] \u001b[38;5;241m=\u001b[39m \u001b[43mEM_sentiment\u001b[49m\u001b[43m[\u001b[49m\u001b[38;5;124;43m'\u001b[39;49m\u001b[38;5;124;43msentiments\u001b[39;49m\u001b[38;5;124;43m'\u001b[39;49m\u001b[43m]\u001b[49m\u001b[38;5;241m.\u001b[39mmap({\u001b[38;5;124m'\u001b[39m\u001b[38;5;124mpositive\u001b[39m\u001b[38;5;124m'\u001b[39m: \u001b[38;5;241m0\u001b[39m, \u001b[38;5;124m'\u001b[39m\u001b[38;5;124mnegative\u001b[39m\u001b[38;5;124m'\u001b[39m: \u001b[38;5;241m1\u001b[39m, \u001b[38;5;124m'\u001b[39m\u001b[38;5;124mneutral\u001b[39m\u001b[38;5;124m'\u001b[39m: \u001b[38;5;241m2\u001b[39m})\n",
      "File \u001b[1;32m~\\anaconda3\\lib\\site-packages\\pandas\\core\\frame.py:3505\u001b[0m, in \u001b[0;36mDataFrame.__getitem__\u001b[1;34m(self, key)\u001b[0m\n\u001b[0;32m   3503\u001b[0m \u001b[38;5;28;01mif\u001b[39;00m \u001b[38;5;28mself\u001b[39m\u001b[38;5;241m.\u001b[39mcolumns\u001b[38;5;241m.\u001b[39mnlevels \u001b[38;5;241m>\u001b[39m \u001b[38;5;241m1\u001b[39m:\n\u001b[0;32m   3504\u001b[0m     \u001b[38;5;28;01mreturn\u001b[39;00m \u001b[38;5;28mself\u001b[39m\u001b[38;5;241m.\u001b[39m_getitem_multilevel(key)\n\u001b[1;32m-> 3505\u001b[0m indexer \u001b[38;5;241m=\u001b[39m \u001b[38;5;28;43mself\u001b[39;49m\u001b[38;5;241;43m.\u001b[39;49m\u001b[43mcolumns\u001b[49m\u001b[38;5;241;43m.\u001b[39;49m\u001b[43mget_loc\u001b[49m\u001b[43m(\u001b[49m\u001b[43mkey\u001b[49m\u001b[43m)\u001b[49m\n\u001b[0;32m   3506\u001b[0m \u001b[38;5;28;01mif\u001b[39;00m is_integer(indexer):\n\u001b[0;32m   3507\u001b[0m     indexer \u001b[38;5;241m=\u001b[39m [indexer]\n",
      "File \u001b[1;32m~\\anaconda3\\lib\\site-packages\\pandas\\core\\indexes\\base.py:3623\u001b[0m, in \u001b[0;36mIndex.get_loc\u001b[1;34m(self, key, method, tolerance)\u001b[0m\n\u001b[0;32m   3621\u001b[0m     \u001b[38;5;28;01mreturn\u001b[39;00m \u001b[38;5;28mself\u001b[39m\u001b[38;5;241m.\u001b[39m_engine\u001b[38;5;241m.\u001b[39mget_loc(casted_key)\n\u001b[0;32m   3622\u001b[0m \u001b[38;5;28;01mexcept\u001b[39;00m \u001b[38;5;167;01mKeyError\u001b[39;00m \u001b[38;5;28;01mas\u001b[39;00m err:\n\u001b[1;32m-> 3623\u001b[0m     \u001b[38;5;28;01mraise\u001b[39;00m \u001b[38;5;167;01mKeyError\u001b[39;00m(key) \u001b[38;5;28;01mfrom\u001b[39;00m \u001b[38;5;21;01merr\u001b[39;00m\n\u001b[0;32m   3624\u001b[0m \u001b[38;5;28;01mexcept\u001b[39;00m \u001b[38;5;167;01mTypeError\u001b[39;00m:\n\u001b[0;32m   3625\u001b[0m     \u001b[38;5;66;03m# If we have a listlike key, _check_indexing_error will raise\u001b[39;00m\n\u001b[0;32m   3626\u001b[0m     \u001b[38;5;66;03m#  InvalidIndexError. Otherwise we fall through and re-raise\u001b[39;00m\n\u001b[0;32m   3627\u001b[0m     \u001b[38;5;66;03m#  the TypeError.\u001b[39;00m\n\u001b[0;32m   3628\u001b[0m     \u001b[38;5;28mself\u001b[39m\u001b[38;5;241m.\u001b[39m_check_indexing_error(key)\n",
      "\u001b[1;31mKeyError\u001b[0m: 'sentiments'"
     ]
    }
   ],
   "source": [
    "EM_sentiment['label'] = EM_sentiment['sentiments'].map({'positive': 0, 'negative': 1, 'neutral': 2})"
   ]
  },
  {
   "cell_type": "code",
   "execution_count": 25,
   "id": "ae698ec3",
   "metadata": {
    "ExecuteTime": {
     "end_time": "2023-04-08T12:57:44.803776Z",
     "start_time": "2023-04-08T12:57:44.790787Z"
    }
   },
   "outputs": [],
   "source": [
    "import numpy as np\n",
    "sentiments = [\"positive\", \"negative\", \"neutral\"]\n",
    "labels = np.array(sentiments)"
   ]
  },
  {
   "cell_type": "code",
   "execution_count": 32,
   "id": "6b8158d9",
   "metadata": {
    "ExecuteTime": {
     "end_time": "2023-04-08T13:00:46.878567Z",
     "start_time": "2023-04-08T13:00:46.854570Z"
    }
   },
   "outputs": [],
   "source": [
    "for i, label in zip(range(len(labels)), labels):\n",
    "    if label == 0:\n",
    "        X.loc[i, 'label'] = 'negative'\n",
    "    elif label == 1:\n",
    "        X.loc[i, 'label'] = 'positive'\n",
    "    else:\n",
    "        X.loc[i, 'label'] = 'neutral'"
   ]
  },
  {
   "cell_type": "code",
   "execution_count": 34,
   "id": "9b558875",
   "metadata": {
    "ExecuteTime": {
     "end_time": "2023-04-08T13:00:53.794563Z",
     "start_time": "2023-04-08T13:00:53.698569Z"
    }
   },
   "outputs": [
    {
     "data": {
      "text/html": [
       "<div>\n",
       "<style scoped>\n",
       "    .dataframe tbody tr th:only-of-type {\n",
       "        vertical-align: middle;\n",
       "    }\n",
       "\n",
       "    .dataframe tbody tr th {\n",
       "        vertical-align: top;\n",
       "    }\n",
       "\n",
       "    .dataframe thead th {\n",
       "        text-align: right;\n",
       "    }\n",
       "</style>\n",
       "<table border=\"1\" class=\"dataframe\">\n",
       "  <thead>\n",
       "    <tr style=\"text-align: right;\">\n",
       "      <th></th>\n",
       "      <th>ab</th>\n",
       "      <th>aber</th>\n",
       "      <th>able</th>\n",
       "      <th>abo</th>\n",
       "      <th>aboard</th>\n",
       "      <th>abort</th>\n",
       "      <th>absence</th>\n",
       "      <th>absolute</th>\n",
       "      <th>absolutely</th>\n",
       "      <th>absorb</th>\n",
       "      <th>...</th>\n",
       "      <th>youre</th>\n",
       "      <th>youve</th>\n",
       "      <th>yup</th>\n",
       "      <th>zealand</th>\n",
       "      <th>zenit</th>\n",
       "      <th>zero</th>\n",
       "      <th>zip</th>\n",
       "      <th>zon</th>\n",
       "      <th>zone</th>\n",
       "      <th>label</th>\n",
       "    </tr>\n",
       "  </thead>\n",
       "  <tbody>\n",
       "    <tr>\n",
       "      <th>0</th>\n",
       "      <td>0</td>\n",
       "      <td>0</td>\n",
       "      <td>0</td>\n",
       "      <td>0</td>\n",
       "      <td>0</td>\n",
       "      <td>0</td>\n",
       "      <td>0</td>\n",
       "      <td>0</td>\n",
       "      <td>0</td>\n",
       "      <td>0</td>\n",
       "      <td>...</td>\n",
       "      <td>0</td>\n",
       "      <td>0</td>\n",
       "      <td>0</td>\n",
       "      <td>0</td>\n",
       "      <td>0</td>\n",
       "      <td>0</td>\n",
       "      <td>0</td>\n",
       "      <td>0</td>\n",
       "      <td>0</td>\n",
       "      <td>neutral</td>\n",
       "    </tr>\n",
       "    <tr>\n",
       "      <th>1</th>\n",
       "      <td>0</td>\n",
       "      <td>0</td>\n",
       "      <td>0</td>\n",
       "      <td>0</td>\n",
       "      <td>0</td>\n",
       "      <td>0</td>\n",
       "      <td>0</td>\n",
       "      <td>0</td>\n",
       "      <td>0</td>\n",
       "      <td>0</td>\n",
       "      <td>...</td>\n",
       "      <td>0</td>\n",
       "      <td>0</td>\n",
       "      <td>0</td>\n",
       "      <td>0</td>\n",
       "      <td>0</td>\n",
       "      <td>0</td>\n",
       "      <td>0</td>\n",
       "      <td>0</td>\n",
       "      <td>0</td>\n",
       "      <td>neutral</td>\n",
       "    </tr>\n",
       "    <tr>\n",
       "      <th>2</th>\n",
       "      <td>0</td>\n",
       "      <td>0</td>\n",
       "      <td>0</td>\n",
       "      <td>0</td>\n",
       "      <td>0</td>\n",
       "      <td>0</td>\n",
       "      <td>0</td>\n",
       "      <td>0</td>\n",
       "      <td>0</td>\n",
       "      <td>0</td>\n",
       "      <td>...</td>\n",
       "      <td>0</td>\n",
       "      <td>0</td>\n",
       "      <td>0</td>\n",
       "      <td>0</td>\n",
       "      <td>0</td>\n",
       "      <td>0</td>\n",
       "      <td>0</td>\n",
       "      <td>0</td>\n",
       "      <td>0</td>\n",
       "      <td>neutral</td>\n",
       "    </tr>\n",
       "    <tr>\n",
       "      <th>3</th>\n",
       "      <td>0</td>\n",
       "      <td>0</td>\n",
       "      <td>0</td>\n",
       "      <td>0</td>\n",
       "      <td>0</td>\n",
       "      <td>0</td>\n",
       "      <td>0</td>\n",
       "      <td>0</td>\n",
       "      <td>0</td>\n",
       "      <td>0</td>\n",
       "      <td>...</td>\n",
       "      <td>0</td>\n",
       "      <td>0</td>\n",
       "      <td>0</td>\n",
       "      <td>0</td>\n",
       "      <td>0</td>\n",
       "      <td>0</td>\n",
       "      <td>0</td>\n",
       "      <td>0</td>\n",
       "      <td>0</td>\n",
       "      <td>NaN</td>\n",
       "    </tr>\n",
       "    <tr>\n",
       "      <th>4</th>\n",
       "      <td>0</td>\n",
       "      <td>0</td>\n",
       "      <td>0</td>\n",
       "      <td>0</td>\n",
       "      <td>0</td>\n",
       "      <td>0</td>\n",
       "      <td>0</td>\n",
       "      <td>0</td>\n",
       "      <td>0</td>\n",
       "      <td>0</td>\n",
       "      <td>...</td>\n",
       "      <td>0</td>\n",
       "      <td>0</td>\n",
       "      <td>0</td>\n",
       "      <td>0</td>\n",
       "      <td>0</td>\n",
       "      <td>0</td>\n",
       "      <td>0</td>\n",
       "      <td>0</td>\n",
       "      <td>0</td>\n",
       "      <td>NaN</td>\n",
       "    </tr>\n",
       "    <tr>\n",
       "      <th>...</th>\n",
       "      <td>...</td>\n",
       "      <td>...</td>\n",
       "      <td>...</td>\n",
       "      <td>...</td>\n",
       "      <td>...</td>\n",
       "      <td>...</td>\n",
       "      <td>...</td>\n",
       "      <td>...</td>\n",
       "      <td>...</td>\n",
       "      <td>...</td>\n",
       "      <td>...</td>\n",
       "      <td>...</td>\n",
       "      <td>...</td>\n",
       "      <td>...</td>\n",
       "      <td>...</td>\n",
       "      <td>...</td>\n",
       "      <td>...</td>\n",
       "      <td>...</td>\n",
       "      <td>...</td>\n",
       "      <td>...</td>\n",
       "      <td>...</td>\n",
       "    </tr>\n",
       "    <tr>\n",
       "      <th>1994</th>\n",
       "      <td>0</td>\n",
       "      <td>0</td>\n",
       "      <td>0</td>\n",
       "      <td>0</td>\n",
       "      <td>0</td>\n",
       "      <td>0</td>\n",
       "      <td>0</td>\n",
       "      <td>0</td>\n",
       "      <td>0</td>\n",
       "      <td>0</td>\n",
       "      <td>...</td>\n",
       "      <td>0</td>\n",
       "      <td>0</td>\n",
       "      <td>0</td>\n",
       "      <td>0</td>\n",
       "      <td>0</td>\n",
       "      <td>0</td>\n",
       "      <td>0</td>\n",
       "      <td>0</td>\n",
       "      <td>0</td>\n",
       "      <td>NaN</td>\n",
       "    </tr>\n",
       "    <tr>\n",
       "      <th>1995</th>\n",
       "      <td>0</td>\n",
       "      <td>0</td>\n",
       "      <td>0</td>\n",
       "      <td>0</td>\n",
       "      <td>0</td>\n",
       "      <td>0</td>\n",
       "      <td>0</td>\n",
       "      <td>0</td>\n",
       "      <td>0</td>\n",
       "      <td>0</td>\n",
       "      <td>...</td>\n",
       "      <td>0</td>\n",
       "      <td>0</td>\n",
       "      <td>0</td>\n",
       "      <td>0</td>\n",
       "      <td>0</td>\n",
       "      <td>0</td>\n",
       "      <td>0</td>\n",
       "      <td>0</td>\n",
       "      <td>0</td>\n",
       "      <td>NaN</td>\n",
       "    </tr>\n",
       "    <tr>\n",
       "      <th>1996</th>\n",
       "      <td>0</td>\n",
       "      <td>0</td>\n",
       "      <td>0</td>\n",
       "      <td>0</td>\n",
       "      <td>0</td>\n",
       "      <td>0</td>\n",
       "      <td>0</td>\n",
       "      <td>0</td>\n",
       "      <td>0</td>\n",
       "      <td>0</td>\n",
       "      <td>...</td>\n",
       "      <td>0</td>\n",
       "      <td>0</td>\n",
       "      <td>0</td>\n",
       "      <td>0</td>\n",
       "      <td>0</td>\n",
       "      <td>0</td>\n",
       "      <td>0</td>\n",
       "      <td>0</td>\n",
       "      <td>0</td>\n",
       "      <td>NaN</td>\n",
       "    </tr>\n",
       "    <tr>\n",
       "      <th>1997</th>\n",
       "      <td>0</td>\n",
       "      <td>0</td>\n",
       "      <td>0</td>\n",
       "      <td>0</td>\n",
       "      <td>0</td>\n",
       "      <td>0</td>\n",
       "      <td>0</td>\n",
       "      <td>0</td>\n",
       "      <td>0</td>\n",
       "      <td>0</td>\n",
       "      <td>...</td>\n",
       "      <td>0</td>\n",
       "      <td>0</td>\n",
       "      <td>0</td>\n",
       "      <td>0</td>\n",
       "      <td>0</td>\n",
       "      <td>0</td>\n",
       "      <td>0</td>\n",
       "      <td>0</td>\n",
       "      <td>0</td>\n",
       "      <td>NaN</td>\n",
       "    </tr>\n",
       "    <tr>\n",
       "      <th>1998</th>\n",
       "      <td>0</td>\n",
       "      <td>0</td>\n",
       "      <td>0</td>\n",
       "      <td>0</td>\n",
       "      <td>0</td>\n",
       "      <td>0</td>\n",
       "      <td>0</td>\n",
       "      <td>0</td>\n",
       "      <td>0</td>\n",
       "      <td>0</td>\n",
       "      <td>...</td>\n",
       "      <td>0</td>\n",
       "      <td>0</td>\n",
       "      <td>0</td>\n",
       "      <td>0</td>\n",
       "      <td>0</td>\n",
       "      <td>0</td>\n",
       "      <td>0</td>\n",
       "      <td>0</td>\n",
       "      <td>0</td>\n",
       "      <td>NaN</td>\n",
       "    </tr>\n",
       "  </tbody>\n",
       "</table>\n",
       "<p>1999 rows × 3431 columns</p>\n",
       "</div>"
      ],
      "text/plain": [
       "      ab  aber  able  abo  aboard  abort  absence  absolute  absolutely  \\\n",
       "0      0     0     0    0       0      0        0         0           0   \n",
       "1      0     0     0    0       0      0        0         0           0   \n",
       "2      0     0     0    0       0      0        0         0           0   \n",
       "3      0     0     0    0       0      0        0         0           0   \n",
       "4      0     0     0    0       0      0        0         0           0   \n",
       "...   ..   ...   ...  ...     ...    ...      ...       ...         ...   \n",
       "1994   0     0     0    0       0      0        0         0           0   \n",
       "1995   0     0     0    0       0      0        0         0           0   \n",
       "1996   0     0     0    0       0      0        0         0           0   \n",
       "1997   0     0     0    0       0      0        0         0           0   \n",
       "1998   0     0     0    0       0      0        0         0           0   \n",
       "\n",
       "      absorb  ...  youre  youve  yup  zealand  zenit  zero  zip  zon  zone  \\\n",
       "0          0  ...      0      0    0        0      0     0    0    0     0   \n",
       "1          0  ...      0      0    0        0      0     0    0    0     0   \n",
       "2          0  ...      0      0    0        0      0     0    0    0     0   \n",
       "3          0  ...      0      0    0        0      0     0    0    0     0   \n",
       "4          0  ...      0      0    0        0      0     0    0    0     0   \n",
       "...      ...  ...    ...    ...  ...      ...    ...   ...  ...  ...   ...   \n",
       "1994       0  ...      0      0    0        0      0     0    0    0     0   \n",
       "1995       0  ...      0      0    0        0      0     0    0    0     0   \n",
       "1996       0  ...      0      0    0        0      0     0    0    0     0   \n",
       "1997       0  ...      0      0    0        0      0     0    0    0     0   \n",
       "1998       0  ...      0      0    0        0      0     0    0    0     0   \n",
       "\n",
       "        label  \n",
       "0     neutral  \n",
       "1     neutral  \n",
       "2     neutral  \n",
       "3         NaN  \n",
       "4         NaN  \n",
       "...       ...  \n",
       "1994      NaN  \n",
       "1995      NaN  \n",
       "1996      NaN  \n",
       "1997      NaN  \n",
       "1998      NaN  \n",
       "\n",
       "[1999 rows x 3431 columns]"
      ]
     },
     "execution_count": 34,
     "metadata": {},
     "output_type": "execute_result"
    }
   ],
   "source": [
    "X"
   ]
  },
  {
   "cell_type": "code",
   "execution_count": 17,
   "id": "bb40ff66",
   "metadata": {
    "ExecuteTime": {
     "end_time": "2023-04-08T06:57:11.869209Z",
     "start_time": "2023-04-08T06:57:11.725211Z"
    }
   },
   "outputs": [
    {
     "name": "stdout",
     "output_type": "stream",
     "text": [
      "text\n",
      "im\n",
      "alien\n",
      "ray\n",
      "tracing\n",
      "cyberpunk\n",
      "hdr\n",
      "nextleve\n",
      "great\n",
      "interview\n",
      "doge\n",
      "underestimated\n",
      "congratulation\n",
      "tesla\n",
      "china\n",
      "amazing\n",
      "execu\n",
      "true\n",
      "sound\n",
      "surreal\n",
      "negative\n",
      "pr\n",
      "make\n",
      "sure\n",
      "read\n",
      "ur\n",
      "term\n",
      "amp\n",
      "condition\n",
      "bef\n",
      "samwise\n",
      "gamgee\n",
      "altho\n",
      "dumb\n",
      "dumber\n",
      "u\n",
      "f\n",
      "u\n",
      "f\n",
      "progress\n",
      "update\n",
      "august\n",
      "row\n",
      "x\n",
      "column\n"
     ]
    }
   ],
   "source": [
    "for i in corpus:\n",
    "    words = word_tokenize(i)\n",
    "    for i in words:\n",
    "        if i not in stopwords.words('english'):\n",
    "            print(lemma.lemmatize(i))"
   ]
  },
  {
   "cell_type": "code",
   "execution_count": 18,
   "id": "4226526c",
   "metadata": {
    "ExecuteTime": {
     "end_time": "2023-04-08T06:57:16.262704Z",
     "start_time": "2023-04-08T06:57:16.241700Z"
    }
   },
   "outputs": [],
   "source": [
    "from sklearn.feature_extraction.text import CountVectorizer, TfidfVectorizer"
   ]
  },
  {
   "cell_type": "code",
   "execution_count": 19,
   "id": "a70c7046",
   "metadata": {
    "ExecuteTime": {
     "end_time": "2023-04-08T06:57:17.748813Z",
     "start_time": "2023-04-08T06:57:17.394659Z"
    }
   },
   "outputs": [
    {
     "data": {
      "text/plain": [
       "array([[1, 1, 1, 1, 1, 1, 1, 1, 1, 1, 1, 1, 1, 1, 1, 1, 1, 1, 1, 1, 1, 1,\n",
       "        1, 1, 3, 1, 1, 1, 1, 1, 1, 1, 1, 1, 1, 1, 1, 1, 1, 1, 1, 1, 1, 1,\n",
       "        1, 1, 1, 1, 1, 1, 1]], dtype=int64)"
      ]
     },
     "execution_count": 19,
     "metadata": {},
     "output_type": "execute_result"
    }
   ],
   "source": [
    "cv = CountVectorizer()\n",
    "\n",
    "x = cv.fit_transform(corpus)\n",
    "x.toarray()"
   ]
  },
  {
   "cell_type": "code",
   "execution_count": 20,
   "id": "0ff60183",
   "metadata": {
    "ExecuteTime": {
     "end_time": "2023-04-08T06:57:20.159284Z",
     "start_time": "2023-04-08T06:57:20.142282Z"
    }
   },
   "outputs": [
    {
     "data": {
      "text/plain": [
       "array(['alien', 'altho', 'amazing', 'amp', 'an', 'and', 'august', 'bef',\n",
       "       'but', 'china', 'columns', 'conditions', 'congratulations',\n",
       "       'cyberpunk', 'doge', 'dumb', 'dumber', 'execu', 'for', 'gamgee',\n",
       "       'great', 'hdr', 'im', 'interview', 'is', 'it', 'make', 'negative',\n",
       "       'nextleve', 'on', 'pr', 'progress', 'ray', 'read', 'rows',\n",
       "       'samwise', 'so', 'sounds', 'sure', 'surreal', 'terms', 'tesla',\n",
       "       'text', 'the', 'to', 'tracing', 'true', 'underestimated', 'update',\n",
       "       'ur', 'with'], dtype=object)"
      ]
     },
     "execution_count": 20,
     "metadata": {},
     "output_type": "execute_result"
    }
   ],
   "source": [
    "cv.get_feature_names_out()"
   ]
  },
  {
   "cell_type": "code",
   "execution_count": 21,
   "id": "4b64d7cb",
   "metadata": {
    "ExecuteTime": {
     "end_time": "2023-04-08T06:57:24.867429Z",
     "start_time": "2023-04-08T06:57:24.835432Z"
    }
   },
   "outputs": [
    {
     "data": {
      "text/plain": [
       "{'text': 42,\n",
       " 'im': 22,\n",
       " 'an': 4,\n",
       " 'alien': 0,\n",
       " 'ray': 32,\n",
       " 'tracing': 45,\n",
       " 'on': 29,\n",
       " 'cyberpunk': 13,\n",
       " 'with': 50,\n",
       " 'hdr': 21,\n",
       " 'is': 24,\n",
       " 'nextleve': 28,\n",
       " 'great': 20,\n",
       " 'interview': 23,\n",
       " 'doge': 14,\n",
       " 'underestimated': 47,\n",
       " 'congratulations': 12,\n",
       " 'tesla': 41,\n",
       " 'china': 9,\n",
       " 'for': 18,\n",
       " 'amazing': 2,\n",
       " 'execu': 17,\n",
       " 'true': 46,\n",
       " 'it': 25,\n",
       " 'sounds': 37,\n",
       " 'so': 36,\n",
       " 'surreal': 39,\n",
       " 'but': 8,\n",
       " 'the': 43,\n",
       " 'negative': 27,\n",
       " 'pr': 30,\n",
       " 'make': 26,\n",
       " 'sure': 38,\n",
       " 'to': 44,\n",
       " 'read': 33,\n",
       " 'ur': 49,\n",
       " 'terms': 40,\n",
       " 'amp': 3,\n",
       " 'conditions': 11,\n",
       " 'bef': 7,\n",
       " 'samwise': 35,\n",
       " 'gamgee': 19,\n",
       " 'altho': 1,\n",
       " 'dumb': 15,\n",
       " 'and': 5,\n",
       " 'dumber': 16,\n",
       " 'progress': 31,\n",
       " 'update': 48,\n",
       " 'august': 6,\n",
       " 'rows': 34,\n",
       " 'columns': 10}"
      ]
     },
     "execution_count": 21,
     "metadata": {},
     "output_type": "execute_result"
    }
   ],
   "source": [
    "cv.vocabulary_"
   ]
  },
  {
   "cell_type": "code",
   "execution_count": 22,
   "id": "901d18de",
   "metadata": {
    "ExecuteTime": {
     "end_time": "2023-04-08T06:57:30.201606Z",
     "start_time": "2023-04-08T06:57:30.182602Z"
    }
   },
   "outputs": [
    {
     "data": {
      "text/plain": [
       "'                                                   text                                             im an alien        ray tracing on cyberpunk with hdr is nextleve                                            great interview                                  doge is underestimated        congratulations tesla china for amazing execu                                                                   true it sounds so surreal but the negative pr           make sure to read ur terms amp conditions bef                                             samwise gamgee             altho dumb and dumber is u    f   u    f                                  progress update august           rows x   columns '"
      ]
     },
     "execution_count": 22,
     "metadata": {},
     "output_type": "execute_result"
    }
   ],
   "source": [
    "corpus[0]"
   ]
  },
  {
   "cell_type": "code",
   "execution_count": 23,
   "id": "6797fb17",
   "metadata": {
    "ExecuteTime": {
     "end_time": "2023-04-08T06:57:33.098357Z",
     "start_time": "2023-04-08T06:57:33.046368Z"
    }
   },
   "outputs": [
    {
     "data": {
      "text/html": [
       "<div>\n",
       "<style scoped>\n",
       "    .dataframe tbody tr th:only-of-type {\n",
       "        vertical-align: middle;\n",
       "    }\n",
       "\n",
       "    .dataframe tbody tr th {\n",
       "        vertical-align: top;\n",
       "    }\n",
       "\n",
       "    .dataframe thead th {\n",
       "        text-align: right;\n",
       "    }\n",
       "</style>\n",
       "<table border=\"1\" class=\"dataframe\">\n",
       "  <thead>\n",
       "    <tr style=\"text-align: right;\">\n",
       "      <th></th>\n",
       "      <th>alien</th>\n",
       "      <th>altho</th>\n",
       "      <th>amazing</th>\n",
       "      <th>amp</th>\n",
       "      <th>an</th>\n",
       "      <th>and</th>\n",
       "      <th>august</th>\n",
       "      <th>bef</th>\n",
       "      <th>but</th>\n",
       "      <th>china</th>\n",
       "      <th>...</th>\n",
       "      <th>tesla</th>\n",
       "      <th>text</th>\n",
       "      <th>the</th>\n",
       "      <th>to</th>\n",
       "      <th>tracing</th>\n",
       "      <th>true</th>\n",
       "      <th>underestimated</th>\n",
       "      <th>update</th>\n",
       "      <th>ur</th>\n",
       "      <th>with</th>\n",
       "    </tr>\n",
       "  </thead>\n",
       "  <tbody>\n",
       "    <tr>\n",
       "      <th>0</th>\n",
       "      <td>1</td>\n",
       "      <td>1</td>\n",
       "      <td>1</td>\n",
       "      <td>1</td>\n",
       "      <td>1</td>\n",
       "      <td>1</td>\n",
       "      <td>1</td>\n",
       "      <td>1</td>\n",
       "      <td>1</td>\n",
       "      <td>1</td>\n",
       "      <td>...</td>\n",
       "      <td>1</td>\n",
       "      <td>1</td>\n",
       "      <td>1</td>\n",
       "      <td>1</td>\n",
       "      <td>1</td>\n",
       "      <td>1</td>\n",
       "      <td>1</td>\n",
       "      <td>1</td>\n",
       "      <td>1</td>\n",
       "      <td>1</td>\n",
       "    </tr>\n",
       "  </tbody>\n",
       "</table>\n",
       "<p>1 rows × 51 columns</p>\n",
       "</div>"
      ],
      "text/plain": [
       "   alien  altho  amazing  amp  an  and  august  bef  but  china  ...  tesla  \\\n",
       "0      1      1        1    1   1    1       1    1    1      1  ...      1   \n",
       "\n",
       "   text  the  to  tracing  true  underestimated  update  ur  with  \n",
       "0     1    1   1        1     1               1       1   1     1  \n",
       "\n",
       "[1 rows x 51 columns]"
      ]
     },
     "execution_count": 23,
     "metadata": {},
     "output_type": "execute_result"
    }
   ],
   "source": [
    "df = pd.DataFrame(x.toarray(), columns=cv.get_feature_names_out())\n",
    "df"
   ]
  },
  {
   "cell_type": "code",
   "execution_count": 24,
   "id": "03216a32",
   "metadata": {
    "ExecuteTime": {
     "end_time": "2023-04-08T06:57:36.497245Z",
     "start_time": "2023-04-08T06:57:36.065412Z"
    }
   },
   "outputs": [
    {
     "data": {
      "text/html": [
       "<div>\n",
       "<style scoped>\n",
       "    .dataframe tbody tr th:only-of-type {\n",
       "        vertical-align: middle;\n",
       "    }\n",
       "\n",
       "    .dataframe tbody tr th {\n",
       "        vertical-align: top;\n",
       "    }\n",
       "\n",
       "    .dataframe thead th {\n",
       "        text-align: right;\n",
       "    }\n",
       "</style>\n",
       "<table border=\"1\" class=\"dataframe\">\n",
       "  <thead>\n",
       "    <tr style=\"text-align: right;\">\n",
       "      <th></th>\n",
       "      <th>alien</th>\n",
       "      <th>altho</th>\n",
       "      <th>amazing</th>\n",
       "      <th>amp</th>\n",
       "      <th>an</th>\n",
       "      <th>and</th>\n",
       "      <th>august</th>\n",
       "      <th>bef</th>\n",
       "      <th>but</th>\n",
       "      <th>china</th>\n",
       "      <th>...</th>\n",
       "      <th>tesla</th>\n",
       "      <th>text</th>\n",
       "      <th>the</th>\n",
       "      <th>to</th>\n",
       "      <th>tracing</th>\n",
       "      <th>true</th>\n",
       "      <th>underestimated</th>\n",
       "      <th>update</th>\n",
       "      <th>ur</th>\n",
       "      <th>with</th>\n",
       "    </tr>\n",
       "  </thead>\n",
       "  <tbody>\n",
       "    <tr>\n",
       "      <th>0</th>\n",
       "      <td>0.130189</td>\n",
       "      <td>0.130189</td>\n",
       "      <td>0.130189</td>\n",
       "      <td>0.130189</td>\n",
       "      <td>0.130189</td>\n",
       "      <td>0.130189</td>\n",
       "      <td>0.130189</td>\n",
       "      <td>0.130189</td>\n",
       "      <td>0.130189</td>\n",
       "      <td>0.130189</td>\n",
       "      <td>...</td>\n",
       "      <td>0.130189</td>\n",
       "      <td>0.130189</td>\n",
       "      <td>0.130189</td>\n",
       "      <td>0.130189</td>\n",
       "      <td>0.130189</td>\n",
       "      <td>0.130189</td>\n",
       "      <td>0.130189</td>\n",
       "      <td>0.130189</td>\n",
       "      <td>0.130189</td>\n",
       "      <td>0.130189</td>\n",
       "    </tr>\n",
       "  </tbody>\n",
       "</table>\n",
       "<p>1 rows × 51 columns</p>\n",
       "</div>"
      ],
      "text/plain": [
       "      alien     altho   amazing       amp        an       and    august  \\\n",
       "0  0.130189  0.130189  0.130189  0.130189  0.130189  0.130189  0.130189   \n",
       "\n",
       "        bef       but     china  ...     tesla      text       the        to  \\\n",
       "0  0.130189  0.130189  0.130189  ...  0.130189  0.130189  0.130189  0.130189   \n",
       "\n",
       "    tracing      true  underestimated    update        ur      with  \n",
       "0  0.130189  0.130189        0.130189  0.130189  0.130189  0.130189  \n",
       "\n",
       "[1 rows x 51 columns]"
      ]
     },
     "execution_count": 24,
     "metadata": {},
     "output_type": "execute_result"
    }
   ],
   "source": [
    "tf = TfidfVectorizer()\n",
    "\n",
    "x = tf.fit_transform(corpus)\n",
    "\n",
    "df = pd.DataFrame(x.toarray(), columns=tf.get_feature_names_out())\n",
    "df"
   ]
  },
  {
   "cell_type": "code",
   "execution_count": 42,
   "id": "836d42ff",
   "metadata": {
    "ExecuteTime": {
     "end_time": "2023-04-08T07:33:50.230451Z",
     "start_time": "2023-04-08T07:33:50.154447Z"
    }
   },
   "outputs": [],
   "source": [
    "df['sentiment'] = 'positive'"
   ]
  },
  {
   "cell_type": "code",
   "execution_count": 44,
   "id": "b2c630ae",
   "metadata": {
    "ExecuteTime": {
     "end_time": "2023-04-08T07:34:54.577747Z",
     "start_time": "2023-04-08T07:34:54.564732Z"
    }
   },
   "outputs": [],
   "source": [
    "df['sentiment'] = 'negative'\n",
    "df['sentiment'] = 'neutral'"
   ]
  },
  {
   "cell_type": "code",
   "execution_count": 45,
   "id": "b323cb8a",
   "metadata": {
    "ExecuteTime": {
     "end_time": "2023-04-08T07:36:42.810043Z",
     "start_time": "2023-04-08T07:36:42.711053Z"
    }
   },
   "outputs": [],
   "source": [
    "df['labels'] = df['sentiment'].map({'positive': 0, 'negative': 1, 'neutral': 2})"
   ]
  },
  {
   "cell_type": "code",
   "execution_count": 48,
   "id": "651fe840",
   "metadata": {
    "ExecuteTime": {
     "end_time": "2023-04-08T07:37:10.115153Z",
     "start_time": "2023-04-08T07:37:10.086148Z"
    }
   },
   "outputs": [
    {
     "data": {
      "text/plain": [
       "0    2\n",
       "Name: labels, dtype: int64"
      ]
     },
     "execution_count": 48,
     "metadata": {},
     "output_type": "execute_result"
    }
   ],
   "source": [
    "df['labels']"
   ]
  },
  {
   "cell_type": "code",
   "execution_count": 49,
   "id": "abc0b900",
   "metadata": {
    "ExecuteTime": {
     "end_time": "2023-04-08T07:37:33.420395Z",
     "start_time": "2023-04-08T07:37:33.282386Z"
    }
   },
   "outputs": [
    {
     "data": {
      "text/html": [
       "<div>\n",
       "<style scoped>\n",
       "    .dataframe tbody tr th:only-of-type {\n",
       "        vertical-align: middle;\n",
       "    }\n",
       "\n",
       "    .dataframe tbody tr th {\n",
       "        vertical-align: top;\n",
       "    }\n",
       "\n",
       "    .dataframe thead th {\n",
       "        text-align: right;\n",
       "    }\n",
       "</style>\n",
       "<table border=\"1\" class=\"dataframe\">\n",
       "  <thead>\n",
       "    <tr style=\"text-align: right;\">\n",
       "      <th></th>\n",
       "      <th>alien</th>\n",
       "      <th>altho</th>\n",
       "      <th>amazing</th>\n",
       "      <th>amp</th>\n",
       "      <th>an</th>\n",
       "      <th>and</th>\n",
       "      <th>august</th>\n",
       "      <th>bef</th>\n",
       "      <th>but</th>\n",
       "      <th>china</th>\n",
       "      <th>...</th>\n",
       "      <th>the</th>\n",
       "      <th>to</th>\n",
       "      <th>tracing</th>\n",
       "      <th>true</th>\n",
       "      <th>underestimated</th>\n",
       "      <th>update</th>\n",
       "      <th>ur</th>\n",
       "      <th>with</th>\n",
       "      <th>sentiment</th>\n",
       "      <th>labels</th>\n",
       "    </tr>\n",
       "  </thead>\n",
       "  <tbody>\n",
       "    <tr>\n",
       "      <th>0</th>\n",
       "      <td>0.130189</td>\n",
       "      <td>0.130189</td>\n",
       "      <td>0.130189</td>\n",
       "      <td>0.130189</td>\n",
       "      <td>0.130189</td>\n",
       "      <td>0.130189</td>\n",
       "      <td>0.130189</td>\n",
       "      <td>0.130189</td>\n",
       "      <td>0.130189</td>\n",
       "      <td>0.130189</td>\n",
       "      <td>...</td>\n",
       "      <td>0.130189</td>\n",
       "      <td>0.130189</td>\n",
       "      <td>0.130189</td>\n",
       "      <td>0.130189</td>\n",
       "      <td>0.130189</td>\n",
       "      <td>0.130189</td>\n",
       "      <td>0.130189</td>\n",
       "      <td>0.130189</td>\n",
       "      <td>neutral</td>\n",
       "      <td>2</td>\n",
       "    </tr>\n",
       "  </tbody>\n",
       "</table>\n",
       "<p>1 rows × 53 columns</p>\n",
       "</div>"
      ],
      "text/plain": [
       "      alien     altho   amazing       amp        an       and    august  \\\n",
       "0  0.130189  0.130189  0.130189  0.130189  0.130189  0.130189  0.130189   \n",
       "\n",
       "        bef       but     china  ...       the        to   tracing      true  \\\n",
       "0  0.130189  0.130189  0.130189  ...  0.130189  0.130189  0.130189  0.130189   \n",
       "\n",
       "   underestimated    update        ur      with  sentiment  labels  \n",
       "0        0.130189  0.130189  0.130189  0.130189    neutral       2  \n",
       "\n",
       "[1 rows x 53 columns]"
      ]
     },
     "execution_count": 49,
     "metadata": {},
     "output_type": "execute_result"
    }
   ],
   "source": [
    "df"
   ]
  },
  {
   "cell_type": "code",
   "execution_count": 46,
   "id": "f991783a",
   "metadata": {
    "ExecuteTime": {
     "end_time": "2023-04-08T07:36:45.349085Z",
     "start_time": "2023-04-08T07:36:45.338090Z"
    }
   },
   "outputs": [],
   "source": [
    "from sklearn.model_selection import train_test_split\n",
    "from sklearn.naive_bayes import MultinomialNB\n",
    "from sklearn.metrics import classification_report\n",
    "from sklearn.svm import LinearSVC"
   ]
  },
  {
   "cell_type": "code",
   "execution_count": 47,
   "id": "33186f95",
   "metadata": {
    "ExecuteTime": {
     "end_time": "2023-04-08T07:36:47.624427Z",
     "start_time": "2023-04-08T07:36:47.477428Z"
    }
   },
   "outputs": [
    {
     "ename": "ValueError",
     "evalue": "Found input variables with inconsistent numbers of samples: [1, 3]",
     "output_type": "error",
     "traceback": [
      "\u001b[1;31m---------------------------------------------------------------------------\u001b[0m",
      "\u001b[1;31mValueError\u001b[0m                                Traceback (most recent call last)",
      "Input \u001b[1;32mIn [47]\u001b[0m, in \u001b[0;36m<cell line: 1>\u001b[1;34m()\u001b[0m\n\u001b[1;32m----> 1\u001b[0m X_train, X_test, y_train, y_test \u001b[38;5;241m=\u001b[39m \u001b[43mtrain_test_split\u001b[49m\u001b[43m(\u001b[49m\u001b[43mdf\u001b[49m\u001b[43m,\u001b[49m\u001b[43m \u001b[49m\u001b[43mlabels\u001b[49m\u001b[43m,\u001b[49m\u001b[43m \u001b[49m\u001b[43mtest_size\u001b[49m\u001b[38;5;241;43m=\u001b[39;49m\u001b[38;5;241;43m0.2\u001b[39;49m\u001b[43m,\u001b[49m\u001b[43m \u001b[49m\u001b[43mrandom_state\u001b[49m\u001b[38;5;241;43m=\u001b[39;49m\u001b[38;5;241;43m1\u001b[39;49m\u001b[43m)\u001b[49m\n",
      "File \u001b[1;32m~\\anaconda3\\lib\\site-packages\\sklearn\\model_selection\\_split.py:2417\u001b[0m, in \u001b[0;36mtrain_test_split\u001b[1;34m(test_size, train_size, random_state, shuffle, stratify, *arrays)\u001b[0m\n\u001b[0;32m   2414\u001b[0m \u001b[38;5;28;01mif\u001b[39;00m n_arrays \u001b[38;5;241m==\u001b[39m \u001b[38;5;241m0\u001b[39m:\n\u001b[0;32m   2415\u001b[0m     \u001b[38;5;28;01mraise\u001b[39;00m \u001b[38;5;167;01mValueError\u001b[39;00m(\u001b[38;5;124m\"\u001b[39m\u001b[38;5;124mAt least one array required as input\u001b[39m\u001b[38;5;124m\"\u001b[39m)\n\u001b[1;32m-> 2417\u001b[0m arrays \u001b[38;5;241m=\u001b[39m \u001b[43mindexable\u001b[49m\u001b[43m(\u001b[49m\u001b[38;5;241;43m*\u001b[39;49m\u001b[43marrays\u001b[49m\u001b[43m)\u001b[49m\n\u001b[0;32m   2419\u001b[0m n_samples \u001b[38;5;241m=\u001b[39m _num_samples(arrays[\u001b[38;5;241m0\u001b[39m])\n\u001b[0;32m   2420\u001b[0m n_train, n_test \u001b[38;5;241m=\u001b[39m _validate_shuffle_split(\n\u001b[0;32m   2421\u001b[0m     n_samples, test_size, train_size, default_test_size\u001b[38;5;241m=\u001b[39m\u001b[38;5;241m0.25\u001b[39m\n\u001b[0;32m   2422\u001b[0m )\n",
      "File \u001b[1;32m~\\anaconda3\\lib\\site-packages\\sklearn\\utils\\validation.py:378\u001b[0m, in \u001b[0;36mindexable\u001b[1;34m(*iterables)\u001b[0m\n\u001b[0;32m    359\u001b[0m \u001b[38;5;250m\u001b[39m\u001b[38;5;124;03m\"\"\"Make arrays indexable for cross-validation.\u001b[39;00m\n\u001b[0;32m    360\u001b[0m \n\u001b[0;32m    361\u001b[0m \u001b[38;5;124;03mChecks consistent length, passes through None, and ensures that everything\u001b[39;00m\n\u001b[1;32m   (...)\u001b[0m\n\u001b[0;32m    374\u001b[0m \u001b[38;5;124;03m    sparse matrix, or dataframe) or `None`.\u001b[39;00m\n\u001b[0;32m    375\u001b[0m \u001b[38;5;124;03m\"\"\"\u001b[39;00m\n\u001b[0;32m    377\u001b[0m result \u001b[38;5;241m=\u001b[39m [_make_indexable(X) \u001b[38;5;28;01mfor\u001b[39;00m X \u001b[38;5;129;01min\u001b[39;00m iterables]\n\u001b[1;32m--> 378\u001b[0m \u001b[43mcheck_consistent_length\u001b[49m\u001b[43m(\u001b[49m\u001b[38;5;241;43m*\u001b[39;49m\u001b[43mresult\u001b[49m\u001b[43m)\u001b[49m\n\u001b[0;32m    379\u001b[0m \u001b[38;5;28;01mreturn\u001b[39;00m result\n",
      "File \u001b[1;32m~\\anaconda3\\lib\\site-packages\\sklearn\\utils\\validation.py:332\u001b[0m, in \u001b[0;36mcheck_consistent_length\u001b[1;34m(*arrays)\u001b[0m\n\u001b[0;32m    330\u001b[0m uniques \u001b[38;5;241m=\u001b[39m np\u001b[38;5;241m.\u001b[39munique(lengths)\n\u001b[0;32m    331\u001b[0m \u001b[38;5;28;01mif\u001b[39;00m \u001b[38;5;28mlen\u001b[39m(uniques) \u001b[38;5;241m>\u001b[39m \u001b[38;5;241m1\u001b[39m:\n\u001b[1;32m--> 332\u001b[0m     \u001b[38;5;28;01mraise\u001b[39;00m \u001b[38;5;167;01mValueError\u001b[39;00m(\n\u001b[0;32m    333\u001b[0m         \u001b[38;5;124m\"\u001b[39m\u001b[38;5;124mFound input variables with inconsistent numbers of samples: \u001b[39m\u001b[38;5;132;01m%r\u001b[39;00m\u001b[38;5;124m\"\u001b[39m\n\u001b[0;32m    334\u001b[0m         \u001b[38;5;241m%\u001b[39m [\u001b[38;5;28mint\u001b[39m(l) \u001b[38;5;28;01mfor\u001b[39;00m l \u001b[38;5;129;01min\u001b[39;00m lengths]\n\u001b[0;32m    335\u001b[0m     )\n",
      "\u001b[1;31mValueError\u001b[0m: Found input variables with inconsistent numbers of samples: [1, 3]"
     ]
    }
   ],
   "source": [
    "X_train, X_test, y_train, y_test = train_test_split(df, labels, test_size=0.2, random_state=1)"
   ]
  },
  {
   "cell_type": "code",
   "execution_count": null,
   "id": "2a006028",
   "metadata": {},
   "outputs": [],
   "source": [
    "model = LinearSVC(random_state=0)\n",
    "model.fit(X_train, y_train)"
   ]
  },
  {
   "cell_type": "code",
   "execution_count": null,
   "id": "b06a1567",
   "metadata": {},
   "outputs": [],
   "source": [
    "y_pred = model.predict(X_test)"
   ]
  },
  {
   "cell_type": "code",
   "execution_count": null,
   "id": "fb102fd7",
   "metadata": {},
   "outputs": [],
   "source": [
    "accuracy = accuracy_score(y_test, y_pred)\n",
    "precision = precision_score(y_test, y_pred, average=None)\n",
    "recall = recall_score(y_test, y_pred, average=None)\n",
    "f1 = f1_score(y_test, y_pred, average=None)\n",
    "\n",
    "print('Accuracy:', accuracy)\n",
    "print('Precision:', precision)\n",
    "print('Recall:', recall)\n",
    "print('F1 Score:', f1)"
   ]
  }
 ],
 "metadata": {
  "kernelspec": {
   "display_name": "Python 3 (ipykernel)",
   "language": "python",
   "name": "python3"
  },
  "language_info": {
   "codemirror_mode": {
    "name": "ipython",
    "version": 3
   },
   "file_extension": ".py",
   "mimetype": "text/x-python",
   "name": "python",
   "nbconvert_exporter": "python",
   "pygments_lexer": "ipython3",
   "version": "3.9.12"
  }
 },
 "nbformat": 4,
 "nbformat_minor": 5
}
