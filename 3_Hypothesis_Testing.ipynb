{
 "cells": [
  {
   "cell_type": "markdown",
   "id": "221e45d2",
   "metadata": {},
   "source": [
    "A F&B manager wants to determine whether there is any significant difference in the diameter of the cutlet between two units. A randomly selected sample of cutlets was collected from both units and measured? Analyze the data and draw inferences at 5% significance level. Please state the assumptions and tests that you carried out to check validity of the assumptions.\n"
   ]
  },
  {
   "cell_type": "code",
   "execution_count": 1,
   "id": "179a8a18",
   "metadata": {
    "ExecuteTime": {
     "end_time": "2023-04-03T09:42:35.848109Z",
     "start_time": "2023-04-03T09:42:30.241982Z"
    }
   },
   "outputs": [],
   "source": [
    "import pandas as pd\n",
    "import numpy as np\n",
    "from scipy.stats import ttest_ind\n",
    "from scipy.stats import norm\n",
    "import scipy.stats as stats\n",
    "import matplotlib.pyplot as plt\n",
    "import seaborn as sns"
   ]
  },
  {
   "cell_type": "code",
   "execution_count": 2,
   "id": "6181b8a0",
   "metadata": {
    "ExecuteTime": {
     "end_time": "2023-04-03T09:42:35.880115Z",
     "start_time": "2023-04-03T09:42:35.855112Z"
    }
   },
   "outputs": [],
   "source": [
    "df = pd.read_csv('Cutlets.csv')"
   ]
  },
  {
   "cell_type": "code",
   "execution_count": 3,
   "id": "ab535751",
   "metadata": {
    "ExecuteTime": {
     "end_time": "2023-04-03T09:42:36.069735Z",
     "start_time": "2023-04-03T09:42:35.886114Z"
    }
   },
   "outputs": [
    {
     "data": {
      "text/html": [
       "<div>\n",
       "<style scoped>\n",
       "    .dataframe tbody tr th:only-of-type {\n",
       "        vertical-align: middle;\n",
       "    }\n",
       "\n",
       "    .dataframe tbody tr th {\n",
       "        vertical-align: top;\n",
       "    }\n",
       "\n",
       "    .dataframe thead th {\n",
       "        text-align: right;\n",
       "    }\n",
       "</style>\n",
       "<table border=\"1\" class=\"dataframe\">\n",
       "  <thead>\n",
       "    <tr style=\"text-align: right;\">\n",
       "      <th></th>\n",
       "      <th>Unit A</th>\n",
       "      <th>Unit B</th>\n",
       "    </tr>\n",
       "  </thead>\n",
       "  <tbody>\n",
       "    <tr>\n",
       "      <th>0</th>\n",
       "      <td>6.8090</td>\n",
       "      <td>6.7703</td>\n",
       "    </tr>\n",
       "    <tr>\n",
       "      <th>1</th>\n",
       "      <td>6.4376</td>\n",
       "      <td>7.5093</td>\n",
       "    </tr>\n",
       "    <tr>\n",
       "      <th>2</th>\n",
       "      <td>6.9157</td>\n",
       "      <td>6.7300</td>\n",
       "    </tr>\n",
       "    <tr>\n",
       "      <th>3</th>\n",
       "      <td>7.3012</td>\n",
       "      <td>6.7878</td>\n",
       "    </tr>\n",
       "    <tr>\n",
       "      <th>4</th>\n",
       "      <td>7.4488</td>\n",
       "      <td>7.1522</td>\n",
       "    </tr>\n",
       "  </tbody>\n",
       "</table>\n",
       "</div>"
      ],
      "text/plain": [
       "   Unit A  Unit B\n",
       "0  6.8090  6.7703\n",
       "1  6.4376  7.5093\n",
       "2  6.9157  6.7300\n",
       "3  7.3012  6.7878\n",
       "4  7.4488  7.1522"
      ]
     },
     "execution_count": 3,
     "metadata": {},
     "output_type": "execute_result"
    }
   ],
   "source": [
    "df.head()"
   ]
  },
  {
   "cell_type": "code",
   "execution_count": 4,
   "id": "e013d3cc",
   "metadata": {
    "ExecuteTime": {
     "end_time": "2023-04-03T09:42:36.165727Z",
     "start_time": "2023-04-03T09:42:36.081728Z"
    }
   },
   "outputs": [
    {
     "data": {
      "text/html": [
       "<div>\n",
       "<style scoped>\n",
       "    .dataframe tbody tr th:only-of-type {\n",
       "        vertical-align: middle;\n",
       "    }\n",
       "\n",
       "    .dataframe tbody tr th {\n",
       "        vertical-align: top;\n",
       "    }\n",
       "\n",
       "    .dataframe thead th {\n",
       "        text-align: right;\n",
       "    }\n",
       "</style>\n",
       "<table border=\"1\" class=\"dataframe\">\n",
       "  <thead>\n",
       "    <tr style=\"text-align: right;\">\n",
       "      <th></th>\n",
       "      <th>Unit A</th>\n",
       "      <th>Unit B</th>\n",
       "    </tr>\n",
       "  </thead>\n",
       "  <tbody>\n",
       "    <tr>\n",
       "      <th>count</th>\n",
       "      <td>35.000000</td>\n",
       "      <td>35.000000</td>\n",
       "    </tr>\n",
       "    <tr>\n",
       "      <th>mean</th>\n",
       "      <td>7.019091</td>\n",
       "      <td>6.964297</td>\n",
       "    </tr>\n",
       "    <tr>\n",
       "      <th>std</th>\n",
       "      <td>0.288408</td>\n",
       "      <td>0.343401</td>\n",
       "    </tr>\n",
       "    <tr>\n",
       "      <th>min</th>\n",
       "      <td>6.437600</td>\n",
       "      <td>6.038000</td>\n",
       "    </tr>\n",
       "    <tr>\n",
       "      <th>25%</th>\n",
       "      <td>6.831500</td>\n",
       "      <td>6.753600</td>\n",
       "    </tr>\n",
       "    <tr>\n",
       "      <th>50%</th>\n",
       "      <td>6.943800</td>\n",
       "      <td>6.939900</td>\n",
       "    </tr>\n",
       "    <tr>\n",
       "      <th>75%</th>\n",
       "      <td>7.280550</td>\n",
       "      <td>7.195000</td>\n",
       "    </tr>\n",
       "    <tr>\n",
       "      <th>max</th>\n",
       "      <td>7.516900</td>\n",
       "      <td>7.545900</td>\n",
       "    </tr>\n",
       "  </tbody>\n",
       "</table>\n",
       "</div>"
      ],
      "text/plain": [
       "          Unit A     Unit B\n",
       "count  35.000000  35.000000\n",
       "mean    7.019091   6.964297\n",
       "std     0.288408   0.343401\n",
       "min     6.437600   6.038000\n",
       "25%     6.831500   6.753600\n",
       "50%     6.943800   6.939900\n",
       "75%     7.280550   7.195000\n",
       "max     7.516900   7.545900"
      ]
     },
     "execution_count": 4,
     "metadata": {},
     "output_type": "execute_result"
    }
   ],
   "source": [
    "df.describe()"
   ]
  },
  {
   "cell_type": "code",
   "execution_count": 5,
   "id": "3391dc94",
   "metadata": {
    "ExecuteTime": {
     "end_time": "2023-04-03T09:42:36.308163Z",
     "start_time": "2023-04-03T09:42:36.173727Z"
    }
   },
   "outputs": [],
   "source": [
    "unit_a = df['Unit A']\n",
    "unit_b = df['Unit B']"
   ]
  },
  {
   "cell_type": "code",
   "execution_count": 6,
   "id": "933998c3",
   "metadata": {
    "ExecuteTime": {
     "end_time": "2023-04-03T09:42:37.468402Z",
     "start_time": "2023-04-03T09:42:36.314151Z"
    }
   },
   "outputs": [
    {
     "data": {
      "image/png": "[encoded data removed]",
      "text/plain": [
       "<Figure size 576x360 with 1 Axes>"
      ]
     },
     "metadata": {
      "needs_background": "light"
     },
     "output_type": "display_data"
    },
    {
     "data": {
      "image/png": "[encoded data removed]",
      "text/plain": [
       "<Figure size 576x360 with 1 Axes>"
      ]
     },
     "metadata": {
      "needs_background": "light"
     },
     "output_type": "display_data"
    }
   ],
   "source": [
    "fig, ax = plt.subplots(figsize=(8, 5))\n",
    "stats.probplot(unit_a, dist=\"norm\", plot=ax)\n",
    "ax.set_title(\"Q-Q plot for Unit A\")\n",
    "\n",
    "fig, ax = plt.subplots(figsize=(8, 5))\n",
    "stats.probplot(unit_b, dist=\"norm\", plot=ax)\n",
    "ax.set_title(\"Q-Q plot for Unit B\")\n",
    "\n",
    "plt.show()"
   ]
  },
  {
   "cell_type": "code",
   "execution_count": 7,
   "id": "157205ac",
   "metadata": {
    "ExecuteTime": {
     "end_time": "2023-04-03T09:42:37.500409Z",
     "start_time": "2023-04-03T09:42:37.476408Z"
    }
   },
   "outputs": [],
   "source": [
    "t_statistic, p_value = ttest_ind(unit_a, unit_b, equal_var=True)"
   ]
  },
  {
   "cell_type": "code",
   "execution_count": 8,
   "id": "b33b26b2",
   "metadata": {
    "ExecuteTime": {
     "end_time": "2023-04-03T09:42:37.658301Z",
     "start_time": "2023-04-03T09:42:37.511414Z"
    }
   },
   "outputs": [
    {
     "name": "stdout",
     "output_type": "stream",
     "text": [
      "t-statistic: 0.7228688704678063\n",
      "p-value: 0.4722394724599501\n"
     ]
    }
   ],
   "source": [
    "print('t-statistic:', t_statistic)\n",
    "print('p-value:', p_value)"
   ]
  },
  {
   "cell_type": "code",
   "execution_count": 9,
   "id": "6a791d2f",
   "metadata": {
    "ExecuteTime": {
     "end_time": "2023-04-03T09:42:37.754309Z",
     "start_time": "2023-04-03T09:42:37.666304Z"
    }
   },
   "outputs": [
    {
     "name": "stdout",
     "output_type": "stream",
     "text": [
      "Inference:\n",
      "There is no significant difference between the means of the two groups by equal variance test since the p-value is greater than significant level of 5%.\n",
      "Therefore, we fail to reject the null hypothesis and can say that there is not enough evidence to suggest that there is a significant difference in the diameter of the cutlets between the two units and it is normally distributed.\n"
     ]
    }
   ],
   "source": [
    "if p_value < 0.05:\n",
    "    print('Inference:\\nThere is a significant difference between the means of the two groups by equal variance test since the p-value is less than significant level of 5%.\\nTherefore we reject null hypothesis')\n",
    "else:\n",
    "    print('Inference:\\nThere is no significant difference between the means of the two groups by equal variance test since the p-value is greater than significant level of 5%.\\nTherefore, we fail to reject the null hypothesis and can say that there is not enough evidence to suggest that there is a significant difference in the diameter of the cutlets between the two units and it is normally distributed.')"
   ]
  },
  {
   "cell_type": "code",
   "execution_count": 10,
   "id": "e401deda",
   "metadata": {
    "ExecuteTime": {
     "end_time": "2023-04-03T09:42:37.881300Z",
     "start_time": "2023-04-03T09:42:37.766302Z"
    }
   },
   "outputs": [],
   "source": [
    "#"
   ]
  },
  {
   "cell_type": "markdown",
   "id": "71d1be2f",
   "metadata": {},
   "source": [
    "A hospital wants to determine whether there is any difference in the average Turn Around Time (TAT) of reports of the laboratories on their preferred list. They collected a random sample and recorded TAT for reports of 4 laboratories. TAT is defined as sample collected to report dispatch.\n",
    "   \n",
    "  Analyze the data and determine whether there is any difference in average TAT among the different laboratories at 5% significance level.\n"
   ]
  },
  {
   "cell_type": "code",
   "execution_count": 11,
   "id": "6c088b4a",
   "metadata": {
    "ExecuteTime": {
     "end_time": "2023-04-03T09:42:38.041373Z",
     "start_time": "2023-04-03T09:42:37.886302Z"
    }
   },
   "outputs": [],
   "source": [
    "Lab = pd.read_csv('LabTAT.csv')"
   ]
  },
  {
   "cell_type": "code",
   "execution_count": 12,
   "id": "9ffb624e",
   "metadata": {
    "ExecuteTime": {
     "end_time": "2023-04-03T09:42:38.212659Z",
     "start_time": "2023-04-03T09:42:38.046416Z"
    }
   },
   "outputs": [
    {
     "data": {
      "text/html": [
       "<div>\n",
       "<style scoped>\n",
       "    .dataframe tbody tr th:only-of-type {\n",
       "        vertical-align: middle;\n",
       "    }\n",
       "\n",
       "    .dataframe tbody tr th {\n",
       "        vertical-align: top;\n",
       "    }\n",
       "\n",
       "    .dataframe thead th {\n",
       "        text-align: right;\n",
       "    }\n",
       "</style>\n",
       "<table border=\"1\" class=\"dataframe\">\n",
       "  <thead>\n",
       "    <tr style=\"text-align: right;\">\n",
       "      <th></th>\n",
       "      <th>Laboratory 1</th>\n",
       "      <th>Laboratory 2</th>\n",
       "      <th>Laboratory 3</th>\n",
       "      <th>Laboratory 4</th>\n",
       "    </tr>\n",
       "  </thead>\n",
       "  <tbody>\n",
       "    <tr>\n",
       "      <th>0</th>\n",
       "      <td>185.35</td>\n",
       "      <td>165.53</td>\n",
       "      <td>176.70</td>\n",
       "      <td>166.13</td>\n",
       "    </tr>\n",
       "    <tr>\n",
       "      <th>1</th>\n",
       "      <td>170.49</td>\n",
       "      <td>185.91</td>\n",
       "      <td>198.45</td>\n",
       "      <td>160.79</td>\n",
       "    </tr>\n",
       "    <tr>\n",
       "      <th>2</th>\n",
       "      <td>192.77</td>\n",
       "      <td>194.92</td>\n",
       "      <td>201.23</td>\n",
       "      <td>185.18</td>\n",
       "    </tr>\n",
       "    <tr>\n",
       "      <th>3</th>\n",
       "      <td>177.33</td>\n",
       "      <td>183.00</td>\n",
       "      <td>199.61</td>\n",
       "      <td>176.42</td>\n",
       "    </tr>\n",
       "    <tr>\n",
       "      <th>4</th>\n",
       "      <td>193.41</td>\n",
       "      <td>169.57</td>\n",
       "      <td>204.63</td>\n",
       "      <td>152.60</td>\n",
       "    </tr>\n",
       "    <tr>\n",
       "      <th>...</th>\n",
       "      <td>...</td>\n",
       "      <td>...</td>\n",
       "      <td>...</td>\n",
       "      <td>...</td>\n",
       "    </tr>\n",
       "    <tr>\n",
       "      <th>115</th>\n",
       "      <td>178.49</td>\n",
       "      <td>170.66</td>\n",
       "      <td>193.80</td>\n",
       "      <td>172.68</td>\n",
       "    </tr>\n",
       "    <tr>\n",
       "      <th>116</th>\n",
       "      <td>176.08</td>\n",
       "      <td>183.98</td>\n",
       "      <td>215.25</td>\n",
       "      <td>177.64</td>\n",
       "    </tr>\n",
       "    <tr>\n",
       "      <th>117</th>\n",
       "      <td>202.48</td>\n",
       "      <td>174.54</td>\n",
       "      <td>203.99</td>\n",
       "      <td>170.27</td>\n",
       "    </tr>\n",
       "    <tr>\n",
       "      <th>118</th>\n",
       "      <td>182.40</td>\n",
       "      <td>197.18</td>\n",
       "      <td>194.52</td>\n",
       "      <td>150.87</td>\n",
       "    </tr>\n",
       "    <tr>\n",
       "      <th>119</th>\n",
       "      <td>182.09</td>\n",
       "      <td>215.17</td>\n",
       "      <td>221.49</td>\n",
       "      <td>162.21</td>\n",
       "    </tr>\n",
       "  </tbody>\n",
       "</table>\n",
       "<p>120 rows × 4 columns</p>\n",
       "</div>"
      ],
      "text/plain": [
       "     Laboratory 1  Laboratory 2  Laboratory 3  Laboratory 4\n",
       "0          185.35        165.53        176.70        166.13\n",
       "1          170.49        185.91        198.45        160.79\n",
       "2          192.77        194.92        201.23        185.18\n",
       "3          177.33        183.00        199.61        176.42\n",
       "4          193.41        169.57        204.63        152.60\n",
       "..            ...           ...           ...           ...\n",
       "115        178.49        170.66        193.80        172.68\n",
       "116        176.08        183.98        215.25        177.64\n",
       "117        202.48        174.54        203.99        170.27\n",
       "118        182.40        197.18        194.52        150.87\n",
       "119        182.09        215.17        221.49        162.21\n",
       "\n",
       "[120 rows x 4 columns]"
      ]
     },
     "execution_count": 12,
     "metadata": {},
     "output_type": "execute_result"
    }
   ],
   "source": [
    "Lab"
   ]
  },
  {
   "cell_type": "code",
   "execution_count": 13,
   "id": "77d4bbca",
   "metadata": {
    "ExecuteTime": {
     "end_time": "2023-04-03T09:42:38.418342Z",
     "start_time": "2023-04-03T09:42:38.219652Z"
    }
   },
   "outputs": [
    {
     "name": "stdout",
     "output_type": "stream",
     "text": [
      "<class 'pandas.core.frame.DataFrame'>\n",
      "RangeIndex: 120 entries, 0 to 119\n",
      "Data columns (total 4 columns):\n",
      " #   Column        Non-Null Count  Dtype  \n",
      "---  ------        --------------  -----  \n",
      " 0   Laboratory 1  120 non-null    float64\n",
      " 1   Laboratory 2  120 non-null    float64\n",
      " 2   Laboratory 3  120 non-null    float64\n",
      " 3   Laboratory 4  120 non-null    float64\n",
      "dtypes: float64(4)\n",
      "memory usage: 3.9 KB\n"
     ]
    }
   ],
   "source": [
    "Lab.info()"
   ]
  },
  {
   "cell_type": "code",
   "execution_count": 14,
   "id": "7d50ae62",
   "metadata": {
    "ExecuteTime": {
     "end_time": "2023-04-03T09:42:38.896347Z",
     "start_time": "2023-04-03T09:42:38.425348Z"
    }
   },
   "outputs": [
    {
     "data": {
      "image/png": "[encoded data removed]",
      "text/plain": [
       "<Figure size 432x288 with 1 Axes>"
      ]
     },
     "metadata": {
      "needs_background": "light"
     },
     "output_type": "display_data"
    }
   ],
   "source": [
    "sns.boxplot(data=Lab)\n",
    "plt.show()"
   ]
  },
  {
   "cell_type": "code",
   "execution_count": 15,
   "id": "4b098000",
   "metadata": {
    "ExecuteTime": {
     "end_time": "2023-04-03T09:42:38.928351Z",
     "start_time": "2023-04-03T09:42:38.903345Z"
    }
   },
   "outputs": [],
   "source": [
    "F_statistic, p_value = stats.f_oneway(Lab['Laboratory 1'], Lab['Laboratory 2'], Lab['Laboratory 3'], Lab['Laboratory 4'])"
   ]
  },
  {
   "cell_type": "code",
   "execution_count": 16,
   "id": "31b2b1d0",
   "metadata": {
    "ExecuteTime": {
     "end_time": "2023-04-03T09:42:39.055819Z",
     "start_time": "2023-04-03T09:42:38.939350Z"
    }
   },
   "outputs": [
    {
     "name": "stdout",
     "output_type": "stream",
     "text": [
      "F statistic: 118.70421654401437\n",
      "p-value: 2.1156708949992414e-57\n"
     ]
    }
   ],
   "source": [
    "print(\"F statistic:\", F_statistic)\n",
    "print(\"p-value:\", p_value)"
   ]
  },
  {
   "cell_type": "code",
   "execution_count": 17,
   "id": "2e553707",
   "metadata": {
    "ExecuteTime": {
     "end_time": "2023-04-03T09:42:39.151848Z",
     "start_time": "2023-04-03T09:42:39.063816Z"
    }
   },
   "outputs": [
    {
     "name": "stdout",
     "output_type": "stream",
     "text": [
      "There is a significant difference in average TAT among the different laboratories.\n"
     ]
    }
   ],
   "source": [
    "if p_value < 0.05:\n",
    "    print(\"There is a significant difference in average TAT among the different laboratories.\")\n",
    "else:\n",
    "    print(\"There is no significant difference in average TAT among the different laboratories.\")\n"
   ]
  },
  {
   "cell_type": "code",
   "execution_count": 18,
   "id": "fa7f4208",
   "metadata": {
    "ExecuteTime": {
     "end_time": "2023-04-03T09:42:39.231806Z",
     "start_time": "2023-04-03T09:42:39.158814Z"
    }
   },
   "outputs": [],
   "source": [
    "#"
   ]
  },
  {
   "cell_type": "markdown",
   "id": "f612dae7",
   "metadata": {},
   "source": [
    "Sales of products in four different regions is tabulated for males and females. Find if male-female buyer rations are similar across regions."
   ]
  },
  {
   "cell_type": "code",
   "execution_count": 19,
   "id": "6fad595f",
   "metadata": {
    "ExecuteTime": {
     "end_time": "2023-04-03T09:42:39.341144Z",
     "start_time": "2023-04-03T09:42:39.237812Z"
    }
   },
   "outputs": [],
   "source": [
    "from scipy.stats import chi2_contingency"
   ]
  },
  {
   "cell_type": "code",
   "execution_count": 20,
   "id": "c80e00cc",
   "metadata": {
    "ExecuteTime": {
     "end_time": "2023-04-03T09:42:39.450406Z",
     "start_time": "2023-04-03T09:42:39.347098Z"
    }
   },
   "outputs": [],
   "source": [
    "buyer = pd.read_csv('BuyerRatio.csv')"
   ]
  },
  {
   "cell_type": "code",
   "execution_count": 21,
   "id": "ceec913d",
   "metadata": {
    "ExecuteTime": {
     "end_time": "2023-04-03T09:42:39.530430Z",
     "start_time": "2023-04-03T09:42:39.464437Z"
    }
   },
   "outputs": [
    {
     "data": {
      "text/html": [
       "<div>\n",
       "<style scoped>\n",
       "    .dataframe tbody tr th:only-of-type {\n",
       "        vertical-align: middle;\n",
       "    }\n",
       "\n",
       "    .dataframe tbody tr th {\n",
       "        vertical-align: top;\n",
       "    }\n",
       "\n",
       "    .dataframe thead th {\n",
       "        text-align: right;\n",
       "    }\n",
       "</style>\n",
       "<table border=\"1\" class=\"dataframe\">\n",
       "  <thead>\n",
       "    <tr style=\"text-align: right;\">\n",
       "      <th></th>\n",
       "      <th>Observed Values</th>\n",
       "      <th>East</th>\n",
       "      <th>West</th>\n",
       "      <th>North</th>\n",
       "      <th>South</th>\n",
       "    </tr>\n",
       "  </thead>\n",
       "  <tbody>\n",
       "    <tr>\n",
       "      <th>0</th>\n",
       "      <td>Males</td>\n",
       "      <td>50</td>\n",
       "      <td>142</td>\n",
       "      <td>131</td>\n",
       "      <td>70</td>\n",
       "    </tr>\n",
       "    <tr>\n",
       "      <th>1</th>\n",
       "      <td>Females</td>\n",
       "      <td>435</td>\n",
       "      <td>1523</td>\n",
       "      <td>1356</td>\n",
       "      <td>750</td>\n",
       "    </tr>\n",
       "  </tbody>\n",
       "</table>\n",
       "</div>"
      ],
      "text/plain": [
       "  Observed Values  East  West  North  South\n",
       "0           Males    50   142    131     70\n",
       "1         Females   435  1523   1356    750"
      ]
     },
     "execution_count": 21,
     "metadata": {},
     "output_type": "execute_result"
    }
   ],
   "source": [
    "buyer"
   ]
  },
  {
   "cell_type": "code",
   "execution_count": 22,
   "id": "e1095e80",
   "metadata": {
    "ExecuteTime": {
     "end_time": "2023-04-03T09:42:39.674439Z",
     "start_time": "2023-04-03T09:42:39.536432Z"
    }
   },
   "outputs": [],
   "source": [
    "buyer = buyer.iloc[:,1:]"
   ]
  },
  {
   "cell_type": "code",
   "execution_count": 23,
   "id": "729a8a77",
   "metadata": {
    "ExecuteTime": {
     "end_time": "2023-04-03T09:42:39.770477Z",
     "start_time": "2023-04-03T09:42:39.681431Z"
    }
   },
   "outputs": [
    {
     "data": {
      "text/html": [
       "<div>\n",
       "<style scoped>\n",
       "    .dataframe tbody tr th:only-of-type {\n",
       "        vertical-align: middle;\n",
       "    }\n",
       "\n",
       "    .dataframe tbody tr th {\n",
       "        vertical-align: top;\n",
       "    }\n",
       "\n",
       "    .dataframe thead th {\n",
       "        text-align: right;\n",
       "    }\n",
       "</style>\n",
       "<table border=\"1\" class=\"dataframe\">\n",
       "  <thead>\n",
       "    <tr style=\"text-align: right;\">\n",
       "      <th></th>\n",
       "      <th>East</th>\n",
       "      <th>West</th>\n",
       "      <th>North</th>\n",
       "      <th>South</th>\n",
       "    </tr>\n",
       "  </thead>\n",
       "  <tbody>\n",
       "    <tr>\n",
       "      <th>0</th>\n",
       "      <td>50</td>\n",
       "      <td>142</td>\n",
       "      <td>131</td>\n",
       "      <td>70</td>\n",
       "    </tr>\n",
       "    <tr>\n",
       "      <th>1</th>\n",
       "      <td>435</td>\n",
       "      <td>1523</td>\n",
       "      <td>1356</td>\n",
       "      <td>750</td>\n",
       "    </tr>\n",
       "  </tbody>\n",
       "</table>\n",
       "</div>"
      ],
      "text/plain": [
       "   East  West  North  South\n",
       "0    50   142    131     70\n",
       "1   435  1523   1356    750"
      ]
     },
     "execution_count": 23,
     "metadata": {},
     "output_type": "execute_result"
    }
   ],
   "source": [
    "buyer"
   ]
  },
  {
   "cell_type": "code",
   "execution_count": 24,
   "id": "fbfaa33c",
   "metadata": {
    "ExecuteTime": {
     "end_time": "2023-04-03T09:42:39.897241Z",
     "start_time": "2023-04-03T09:42:39.776428Z"
    }
   },
   "outputs": [],
   "source": [
    "chi2, p, dof, expected = chi2_contingency(buyer)"
   ]
  },
  {
   "cell_type": "code",
   "execution_count": 25,
   "id": "ab6d6f22",
   "metadata": {
    "ExecuteTime": {
     "end_time": "2023-04-03T09:42:40.020438Z",
     "start_time": "2023-04-03T09:42:39.905210Z"
    }
   },
   "outputs": [
    {
     "name": "stdout",
     "output_type": "stream",
     "text": [
      "Chi-square statistic: 1.595945538661058\n",
      "P-value: 0.6603094907091882\n"
     ]
    }
   ],
   "source": [
    "print(\"Chi-square statistic:\", chi2)\n",
    "print(\"P-value:\", p)"
   ]
  },
  {
   "cell_type": "code",
   "execution_count": 26,
   "id": "28cab009",
   "metadata": {
    "ExecuteTime": {
     "end_time": "2023-04-03T09:42:40.132465Z",
     "start_time": "2023-04-03T09:42:40.028435Z"
    }
   },
   "outputs": [
    {
     "name": "stdout",
     "output_type": "stream",
     "text": [
      "we reject the null hypothesis and conclude that there is enough evidence to suggest that the male-female buyer ratios are different across regions.\n"
     ]
    }
   ],
   "source": [
    "if p_value < 0.05:\n",
    "    print(\"we reject the null hypothesis and conclude that there is enough evidence to suggest that the male-female buyer ratios are different across regions.\")\n",
    "else:\n",
    "    print(\"we fail to reject the null hypothesis and conclude that there is not enough evidence to suggest that the male-female buyer ratios are different across regions.\")"
   ]
  },
  {
   "cell_type": "code",
   "execution_count": 27,
   "id": "45f9a5b9",
   "metadata": {
    "ExecuteTime": {
     "end_time": "2023-04-03T09:42:40.276366Z",
     "start_time": "2023-04-03T09:42:40.138460Z"
    }
   },
   "outputs": [],
   "source": [
    "#"
   ]
  },
  {
   "cell_type": "markdown",
   "id": "a05f0483",
   "metadata": {},
   "source": [
    "TeleCall uses 4 centers around the globe to process customer order forms. They audit a certain %  of the customer order forms. Any error in order form renders it defective and has to be reworked before processing.  The manager wants to check whether the defective %  varies by centre. Please analyze the data at 5% significance level and help the manager draw appropriate inferences\n"
   ]
  },
  {
   "cell_type": "code",
   "execution_count": 28,
   "id": "5b6962c0",
   "metadata": {
    "ExecuteTime": {
     "end_time": "2023-04-03T09:42:40.434004Z",
     "start_time": "2023-04-03T09:42:40.289364Z"
    }
   },
   "outputs": [],
   "source": [
    "customer = pd.read_csv('Costomer+OrderForm.csv')"
   ]
  },
  {
   "cell_type": "code",
   "execution_count": 29,
   "id": "0403d469",
   "metadata": {
    "ExecuteTime": {
     "end_time": "2023-04-03T09:42:40.575605Z",
     "start_time": "2023-04-03T09:42:40.438961Z"
    }
   },
   "outputs": [
    {
     "data": {
      "text/html": [
       "<div>\n",
       "<style scoped>\n",
       "    .dataframe tbody tr th:only-of-type {\n",
       "        vertical-align: middle;\n",
       "    }\n",
       "\n",
       "    .dataframe tbody tr th {\n",
       "        vertical-align: top;\n",
       "    }\n",
       "\n",
       "    .dataframe thead th {\n",
       "        text-align: right;\n",
       "    }\n",
       "</style>\n",
       "<table border=\"1\" class=\"dataframe\">\n",
       "  <thead>\n",
       "    <tr style=\"text-align: right;\">\n",
       "      <th></th>\n",
       "      <th>Phillippines</th>\n",
       "      <th>Indonesia</th>\n",
       "      <th>Malta</th>\n",
       "      <th>India</th>\n",
       "    </tr>\n",
       "  </thead>\n",
       "  <tbody>\n",
       "    <tr>\n",
       "      <th>0</th>\n",
       "      <td>Error Free</td>\n",
       "      <td>Error Free</td>\n",
       "      <td>Defective</td>\n",
       "      <td>Error Free</td>\n",
       "    </tr>\n",
       "    <tr>\n",
       "      <th>1</th>\n",
       "      <td>Error Free</td>\n",
       "      <td>Error Free</td>\n",
       "      <td>Error Free</td>\n",
       "      <td>Defective</td>\n",
       "    </tr>\n",
       "    <tr>\n",
       "      <th>2</th>\n",
       "      <td>Error Free</td>\n",
       "      <td>Defective</td>\n",
       "      <td>Defective</td>\n",
       "      <td>Error Free</td>\n",
       "    </tr>\n",
       "    <tr>\n",
       "      <th>3</th>\n",
       "      <td>Error Free</td>\n",
       "      <td>Error Free</td>\n",
       "      <td>Error Free</td>\n",
       "      <td>Error Free</td>\n",
       "    </tr>\n",
       "    <tr>\n",
       "      <th>4</th>\n",
       "      <td>Error Free</td>\n",
       "      <td>Error Free</td>\n",
       "      <td>Defective</td>\n",
       "      <td>Error Free</td>\n",
       "    </tr>\n",
       "    <tr>\n",
       "      <th>...</th>\n",
       "      <td>...</td>\n",
       "      <td>...</td>\n",
       "      <td>...</td>\n",
       "      <td>...</td>\n",
       "    </tr>\n",
       "    <tr>\n",
       "      <th>295</th>\n",
       "      <td>Error Free</td>\n",
       "      <td>Error Free</td>\n",
       "      <td>Error Free</td>\n",
       "      <td>Error Free</td>\n",
       "    </tr>\n",
       "    <tr>\n",
       "      <th>296</th>\n",
       "      <td>Error Free</td>\n",
       "      <td>Error Free</td>\n",
       "      <td>Error Free</td>\n",
       "      <td>Error Free</td>\n",
       "    </tr>\n",
       "    <tr>\n",
       "      <th>297</th>\n",
       "      <td>Error Free</td>\n",
       "      <td>Error Free</td>\n",
       "      <td>Defective</td>\n",
       "      <td>Error Free</td>\n",
       "    </tr>\n",
       "    <tr>\n",
       "      <th>298</th>\n",
       "      <td>Error Free</td>\n",
       "      <td>Error Free</td>\n",
       "      <td>Error Free</td>\n",
       "      <td>Error Free</td>\n",
       "    </tr>\n",
       "    <tr>\n",
       "      <th>299</th>\n",
       "      <td>Error Free</td>\n",
       "      <td>Defective</td>\n",
       "      <td>Defective</td>\n",
       "      <td>Error Free</td>\n",
       "    </tr>\n",
       "  </tbody>\n",
       "</table>\n",
       "<p>300 rows × 4 columns</p>\n",
       "</div>"
      ],
      "text/plain": [
       "    Phillippines   Indonesia       Malta       India\n",
       "0     Error Free  Error Free   Defective  Error Free\n",
       "1     Error Free  Error Free  Error Free   Defective\n",
       "2     Error Free   Defective   Defective  Error Free\n",
       "3     Error Free  Error Free  Error Free  Error Free\n",
       "4     Error Free  Error Free   Defective  Error Free\n",
       "..           ...         ...         ...         ...\n",
       "295   Error Free  Error Free  Error Free  Error Free\n",
       "296   Error Free  Error Free  Error Free  Error Free\n",
       "297   Error Free  Error Free   Defective  Error Free\n",
       "298   Error Free  Error Free  Error Free  Error Free\n",
       "299   Error Free   Defective   Defective  Error Free\n",
       "\n",
       "[300 rows x 4 columns]"
      ]
     },
     "execution_count": 29,
     "metadata": {},
     "output_type": "execute_result"
    }
   ],
   "source": [
    "customer"
   ]
  },
  {
   "cell_type": "code",
   "execution_count": 30,
   "id": "de773962",
   "metadata": {
    "ExecuteTime": {
     "end_time": "2023-04-03T09:42:40.734689Z",
     "start_time": "2023-04-03T09:42:40.583599Z"
    }
   },
   "outputs": [],
   "source": [
    "customer = customer.replace({'Defective': 1, 'Error Free': 0})"
   ]
  },
  {
   "cell_type": "code",
   "execution_count": 31,
   "id": "532639ac",
   "metadata": {
    "ExecuteTime": {
     "end_time": "2023-04-03T09:42:40.970945Z",
     "start_time": "2023-04-03T09:42:40.739669Z"
    }
   },
   "outputs": [],
   "source": [
    "centers = pd.crosstab(customer['Phillippines'], [customer['Indonesia'], customer['Malta'], customer['India']])"
   ]
  },
  {
   "cell_type": "code",
   "execution_count": 32,
   "id": "2573cbf7",
   "metadata": {
    "ExecuteTime": {
     "end_time": "2023-04-03T09:42:41.066948Z",
     "start_time": "2023-04-03T09:42:40.977942Z"
    }
   },
   "outputs": [],
   "source": [
    "chi2, p, dof, expected = chi2_contingency(centers)"
   ]
  },
  {
   "cell_type": "code",
   "execution_count": 33,
   "id": "961db8a5",
   "metadata": {
    "ExecuteTime": {
     "end_time": "2023-04-03T09:42:41.161944Z",
     "start_time": "2023-04-03T09:42:41.073943Z"
    }
   },
   "outputs": [
    {
     "name": "stdout",
     "output_type": "stream",
     "text": [
      "There is no evidence that the percentage of defects varies by center.\n"
     ]
    }
   ],
   "source": [
    "if p < 0.05:\n",
    "    print(\"There is evidence that the percentage of defects varies by center.\")\n",
    "else:\n",
    "    print(\"There is no evidence that the percentage of defects varies by center.\")\n"
   ]
  },
  {
   "cell_type": "code",
   "execution_count": null,
   "id": "e0003d0d",
   "metadata": {},
   "outputs": [],
   "source": []
  }
 ],
 "metadata": {
  "kernelspec": {
   "display_name": "Python 3 (ipykernel)",
   "language": "python",
   "name": "python3"
  },
  "language_info": {
   "codemirror_mode": {
    "name": "ipython",
    "version": 3
   },
   "file_extension": ".py",
   "mimetype": "text/x-python",
   "name": "python",
   "nbconvert_exporter": "python",
   "pygments_lexer": "ipython3",
   "version": "3.9.12"
  }
 },
 "nbformat": 4,
 "nbformat_minor": 5
}
