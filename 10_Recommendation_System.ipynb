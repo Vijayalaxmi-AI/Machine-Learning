{
 "cells": [
  {
   "cell_type": "markdown",
   "id": "3fd9bd2c",
   "metadata": {},
   "source": [
    "# Build a recommender system by using cosine simillarties score."
   ]
  },
  {
   "cell_type": "code",
   "execution_count": 1,
   "id": "7f6230b3",
   "metadata": {
    "ExecuteTime": {
     "end_time": "2023-03-31T09:28:35.456092Z",
     "start_time": "2023-03-31T09:28:11.474930Z"
    }
   },
   "outputs": [],
   "source": [
    "import pandas as pd\n",
    "import numpy as np\n",
    "import matplotlib.pyplot as plt\n",
    "\n",
    "import warnings\n",
    "warnings.filterwarnings('ignore')"
   ]
  },
  {
   "cell_type": "code",
   "execution_count": 49,
   "id": "ba4dd7bf",
   "metadata": {
    "ExecuteTime": {
     "end_time": "2023-03-31T09:36:45.337857Z",
     "start_time": "2023-03-31T09:36:45.285872Z"
    }
   },
   "outputs": [],
   "source": [
    "import io\n",
    "with io.open(\"book.csv\", 'r', encoding='utf-8', errors='ignore') as f:\n",
    "    df = pd.read_csv(f)"
   ]
  },
  {
   "cell_type": "code",
   "execution_count": 27,
   "id": "9c5a0637",
   "metadata": {
    "ExecuteTime": {
     "end_time": "2023-03-31T09:33:49.976305Z",
     "start_time": "2023-03-31T09:33:49.951298Z"
    }
   },
   "outputs": [
    {
     "data": {
      "text/html": [
       "<div>\n",
       "<style scoped>\n",
       "    .dataframe tbody tr th:only-of-type {\n",
       "        vertical-align: middle;\n",
       "    }\n",
       "\n",
       "    .dataframe tbody tr th {\n",
       "        vertical-align: top;\n",
       "    }\n",
       "\n",
       "    .dataframe thead th {\n",
       "        text-align: right;\n",
       "    }\n",
       "</style>\n",
       "<table border=\"1\" class=\"dataframe\">\n",
       "  <thead>\n",
       "    <tr style=\"text-align: right;\">\n",
       "      <th></th>\n",
       "      <th>Unnamed: 0</th>\n",
       "      <th>User.ID</th>\n",
       "      <th>Book.Title</th>\n",
       "      <th>Book.Rating</th>\n",
       "    </tr>\n",
       "  </thead>\n",
       "  <tbody>\n",
       "    <tr>\n",
       "      <th>0</th>\n",
       "      <td>1</td>\n",
       "      <td>276726</td>\n",
       "      <td>Classical Mythology</td>\n",
       "      <td>5</td>\n",
       "    </tr>\n",
       "    <tr>\n",
       "      <th>1</th>\n",
       "      <td>2</td>\n",
       "      <td>276729</td>\n",
       "      <td>Clara Callan</td>\n",
       "      <td>3</td>\n",
       "    </tr>\n",
       "    <tr>\n",
       "      <th>2</th>\n",
       "      <td>3</td>\n",
       "      <td>276729</td>\n",
       "      <td>Decision in Normandy</td>\n",
       "      <td>6</td>\n",
       "    </tr>\n",
       "    <tr>\n",
       "      <th>3</th>\n",
       "      <td>4</td>\n",
       "      <td>276736</td>\n",
       "      <td>Flu: The Story of the Great Influenza Pandemic...</td>\n",
       "      <td>8</td>\n",
       "    </tr>\n",
       "    <tr>\n",
       "      <th>4</th>\n",
       "      <td>5</td>\n",
       "      <td>276737</td>\n",
       "      <td>The Mummies of Urumchi</td>\n",
       "      <td>6</td>\n",
       "    </tr>\n",
       "  </tbody>\n",
       "</table>\n",
       "</div>"
      ],
      "text/plain": [
       "   Unnamed: 0  User.ID                                         Book.Title  \\\n",
       "0           1   276726                                Classical Mythology   \n",
       "1           2   276729                                       Clara Callan   \n",
       "2           3   276729                               Decision in Normandy   \n",
       "3           4   276736  Flu: The Story of the Great Influenza Pandemic...   \n",
       "4           5   276737                             The Mummies of Urumchi   \n",
       "\n",
       "   Book.Rating  \n",
       "0            5  \n",
       "1            3  \n",
       "2            6  \n",
       "3            8  \n",
       "4            6  "
      ]
     },
     "execution_count": 27,
     "metadata": {},
     "output_type": "execute_result"
    }
   ],
   "source": [
    "df.head()"
   ]
  },
  {
   "cell_type": "code",
   "execution_count": 29,
   "id": "46b5105b",
   "metadata": {
    "ExecuteTime": {
     "end_time": "2023-03-31T09:33:57.719502Z",
     "start_time": "2023-03-31T09:33:57.692494Z"
    }
   },
   "outputs": [
    {
     "data": {
      "text/plain": [
       "2182"
      ]
     },
     "execution_count": 29,
     "metadata": {},
     "output_type": "execute_result"
    }
   ],
   "source": [
    "df['User.ID'].nunique()"
   ]
  },
  {
   "cell_type": "code",
   "execution_count": 30,
   "id": "67c1d2d5",
   "metadata": {
    "ExecuteTime": {
     "end_time": "2023-03-31T09:33:58.441979Z",
     "start_time": "2023-03-31T09:33:58.404993Z"
    }
   },
   "outputs": [
    {
     "name": "stdout",
     "output_type": "stream",
     "text": [
      "<class 'pandas.core.frame.DataFrame'>\n",
      "RangeIndex: 10000 entries, 0 to 9999\n",
      "Data columns (total 4 columns):\n",
      " #   Column       Non-Null Count  Dtype \n",
      "---  ------       --------------  ----- \n",
      " 0   Unnamed: 0   10000 non-null  int64 \n",
      " 1   User.ID      10000 non-null  int64 \n",
      " 2   Book.Title   10000 non-null  object\n",
      " 3   Book.Rating  10000 non-null  int64 \n",
      "dtypes: int64(3), object(1)\n",
      "memory usage: 312.6+ KB\n"
     ]
    }
   ],
   "source": [
    "df.info()"
   ]
  },
  {
   "cell_type": "code",
   "execution_count": 31,
   "id": "baf55e2f",
   "metadata": {
    "ExecuteTime": {
     "end_time": "2023-03-31T09:33:59.189652Z",
     "start_time": "2023-03-31T09:33:59.160653Z"
    }
   },
   "outputs": [
    {
     "data": {
      "text/plain": [
       "9659"
      ]
     },
     "execution_count": 31,
     "metadata": {},
     "output_type": "execute_result"
    }
   ],
   "source": [
    "df['Book.Title'].nunique()"
   ]
  },
  {
   "cell_type": "code",
   "execution_count": 32,
   "id": "4c006026",
   "metadata": {
    "ExecuteTime": {
     "end_time": "2023-03-31T09:33:59.984370Z",
     "start_time": "2023-03-31T09:33:59.970367Z"
    }
   },
   "outputs": [
    {
     "data": {
      "text/plain": [
       "10"
      ]
     },
     "execution_count": 32,
     "metadata": {},
     "output_type": "execute_result"
    }
   ],
   "source": [
    "df['Book.Rating'].nunique()"
   ]
  },
  {
   "cell_type": "code",
   "execution_count": 33,
   "id": "3ca11513",
   "metadata": {
    "ExecuteTime": {
     "end_time": "2023-03-31T09:34:00.673898Z",
     "start_time": "2023-03-31T09:34:00.653900Z"
    }
   },
   "outputs": [],
   "source": [
    "import seaborn as sns"
   ]
  },
  {
   "cell_type": "code",
   "execution_count": 34,
   "id": "d9d90809",
   "metadata": {
    "ExecuteTime": {
     "end_time": "2023-03-31T09:34:01.820776Z",
     "start_time": "2023-03-31T09:34:01.421778Z"
    }
   },
   "outputs": [
    {
     "data": {
      "text/plain": [
       "<AxesSubplot:xlabel='Book.Rating', ylabel='count'>"
      ]
     },
     "execution_count": 34,
     "metadata": {},
     "output_type": "execute_result"
    },
    {
     "data": {
      "image/png": "[encoded data removed]",
      "text/plain": [
       "<Figure size 432x288 with 1 Axes>"
      ]
     },
     "metadata": {
      "needs_background": "light"
     },
     "output_type": "display_data"
    }
   ],
   "source": [
    "sns.countplot(df['Book.Rating'])"
   ]
  },
  {
   "cell_type": "code",
   "execution_count": 35,
   "id": "d2e7db27",
   "metadata": {
    "ExecuteTime": {
     "end_time": "2023-03-31T09:34:02.366786Z",
     "start_time": "2023-03-31T09:34:02.345801Z"
    }
   },
   "outputs": [
    {
     "data": {
      "text/plain": [
       "8     2283\n",
       "7     2076\n",
       "10    1732\n",
       "9     1493\n",
       "5     1007\n",
       "6      920\n",
       "4      237\n",
       "3      146\n",
       "2       63\n",
       "1       43\n",
       "Name: Book.Rating, dtype: int64"
      ]
     },
     "execution_count": 35,
     "metadata": {},
     "output_type": "execute_result"
    }
   ],
   "source": [
    "df['Book.Rating'].value_counts()"
   ]
  },
  {
   "cell_type": "code",
   "execution_count": 50,
   "id": "f3d48119",
   "metadata": {
    "ExecuteTime": {
     "end_time": "2023-03-31T09:36:53.048230Z",
     "start_time": "2023-03-31T09:36:52.971237Z"
    }
   },
   "outputs": [],
   "source": [
    "df = df.drop_duplicates(subset=['User.ID'])\n",
    "pivot = df.pivot(index='User.ID', columns='Book.Title', values='Book.Rating')"
   ]
  },
  {
   "cell_type": "code",
   "execution_count": 51,
   "id": "17acd065",
   "metadata": {
    "ExecuteTime": {
     "end_time": "2023-03-31T09:36:53.618058Z",
     "start_time": "2023-03-31T09:36:53.596051Z"
    }
   },
   "outputs": [],
   "source": [
    "#pivot = df.pivot(index='User.ID', columns='Book.Title', values='Book.Rating')"
   ]
  },
  {
   "cell_type": "code",
   "execution_count": 52,
   "id": "d4925293",
   "metadata": {
    "ExecuteTime": {
     "end_time": "2023-03-31T09:36:54.318049Z",
     "start_time": "2023-03-31T09:36:54.197051Z"
    }
   },
   "outputs": [
    {
     "data": {
      "text/html": [
       "<div>\n",
       "<style scoped>\n",
       "    .dataframe tbody tr th:only-of-type {\n",
       "        vertical-align: middle;\n",
       "    }\n",
       "\n",
       "    .dataframe tbody tr th {\n",
       "        vertical-align: top;\n",
       "    }\n",
       "\n",
       "    .dataframe thead th {\n",
       "        text-align: right;\n",
       "    }\n",
       "</style>\n",
       "<table border=\"1\" class=\"dataframe\">\n",
       "  <thead>\n",
       "    <tr style=\"text-align: right;\">\n",
       "      <th>Book.Title</th>\n",
       "      <th>'48</th>\n",
       "      <th>'O Au No Keia: Voices from Hawai'I's Mahu and Transgender Communities</th>\n",
       "      <th>101 Bright Ideas: Esl Activities for All Ages</th>\n",
       "      <th>101 Dalmatians</th>\n",
       "      <th>11th Hour</th>\n",
       "      <th>13 99 Euros</th>\n",
       "      <th>20,001 Names for Baby</th>\n",
       "      <th>2001 Spanish and English Idioms/2001 Modismos Espanoles E Ingleses: 2001 Modismos Espanoles E Ingleses</th>\n",
       "      <th>2061: Odyssey Three</th>\n",
       "      <th>253</th>\n",
       "      <th>...</th>\n",
       "      <th>Your Oasis on Flame Lake</th>\n",
       "      <th>Yours, Mine And ...Ours (Silhouette Special Edition, No 682)</th>\n",
       "      <th>Yukon Ho!</th>\n",
       "      <th>Yuwipi: Vision and Experience in Oglala Ritual</th>\n",
       "      <th>Zeit im Wind.</th>\n",
       "      <th>Zen in the Art of Archery (Vintage Spiritual Classics)</th>\n",
       "      <th>Zlateh the Goat and Other Stories</th>\n",
       "      <th>Zodiac: The Eco-Thriller</th>\n",
       "      <th>Zombies of the Gene Pool</th>\n",
       "      <th>Zora Hurston and the Chinaberry Tree (Reading Rainbow Book)</th>\n",
       "    </tr>\n",
       "    <tr>\n",
       "      <th>User.ID</th>\n",
       "      <th></th>\n",
       "      <th></th>\n",
       "      <th></th>\n",
       "      <th></th>\n",
       "      <th></th>\n",
       "      <th></th>\n",
       "      <th></th>\n",
       "      <th></th>\n",
       "      <th></th>\n",
       "      <th></th>\n",
       "      <th></th>\n",
       "      <th></th>\n",
       "      <th></th>\n",
       "      <th></th>\n",
       "      <th></th>\n",
       "      <th></th>\n",
       "      <th></th>\n",
       "      <th></th>\n",
       "      <th></th>\n",
       "      <th></th>\n",
       "      <th></th>\n",
       "    </tr>\n",
       "  </thead>\n",
       "  <tbody>\n",
       "    <tr>\n",
       "      <th>8</th>\n",
       "      <td>NaN</td>\n",
       "      <td>NaN</td>\n",
       "      <td>NaN</td>\n",
       "      <td>NaN</td>\n",
       "      <td>NaN</td>\n",
       "      <td>NaN</td>\n",
       "      <td>NaN</td>\n",
       "      <td>NaN</td>\n",
       "      <td>NaN</td>\n",
       "      <td>NaN</td>\n",
       "      <td>...</td>\n",
       "      <td>NaN</td>\n",
       "      <td>NaN</td>\n",
       "      <td>NaN</td>\n",
       "      <td>NaN</td>\n",
       "      <td>NaN</td>\n",
       "      <td>NaN</td>\n",
       "      <td>NaN</td>\n",
       "      <td>NaN</td>\n",
       "      <td>NaN</td>\n",
       "      <td>NaN</td>\n",
       "    </tr>\n",
       "    <tr>\n",
       "      <th>9</th>\n",
       "      <td>NaN</td>\n",
       "      <td>NaN</td>\n",
       "      <td>NaN</td>\n",
       "      <td>NaN</td>\n",
       "      <td>NaN</td>\n",
       "      <td>NaN</td>\n",
       "      <td>NaN</td>\n",
       "      <td>NaN</td>\n",
       "      <td>NaN</td>\n",
       "      <td>NaN</td>\n",
       "      <td>...</td>\n",
       "      <td>NaN</td>\n",
       "      <td>NaN</td>\n",
       "      <td>NaN</td>\n",
       "      <td>NaN</td>\n",
       "      <td>NaN</td>\n",
       "      <td>NaN</td>\n",
       "      <td>NaN</td>\n",
       "      <td>NaN</td>\n",
       "      <td>NaN</td>\n",
       "      <td>NaN</td>\n",
       "    </tr>\n",
       "    <tr>\n",
       "      <th>10</th>\n",
       "      <td>NaN</td>\n",
       "      <td>NaN</td>\n",
       "      <td>NaN</td>\n",
       "      <td>NaN</td>\n",
       "      <td>NaN</td>\n",
       "      <td>NaN</td>\n",
       "      <td>NaN</td>\n",
       "      <td>NaN</td>\n",
       "      <td>NaN</td>\n",
       "      <td>NaN</td>\n",
       "      <td>...</td>\n",
       "      <td>NaN</td>\n",
       "      <td>NaN</td>\n",
       "      <td>NaN</td>\n",
       "      <td>NaN</td>\n",
       "      <td>NaN</td>\n",
       "      <td>NaN</td>\n",
       "      <td>NaN</td>\n",
       "      <td>NaN</td>\n",
       "      <td>NaN</td>\n",
       "      <td>NaN</td>\n",
       "    </tr>\n",
       "    <tr>\n",
       "      <th>12</th>\n",
       "      <td>NaN</td>\n",
       "      <td>NaN</td>\n",
       "      <td>NaN</td>\n",
       "      <td>NaN</td>\n",
       "      <td>NaN</td>\n",
       "      <td>NaN</td>\n",
       "      <td>NaN</td>\n",
       "      <td>NaN</td>\n",
       "      <td>NaN</td>\n",
       "      <td>NaN</td>\n",
       "      <td>...</td>\n",
       "      <td>NaN</td>\n",
       "      <td>NaN</td>\n",
       "      <td>NaN</td>\n",
       "      <td>NaN</td>\n",
       "      <td>NaN</td>\n",
       "      <td>NaN</td>\n",
       "      <td>NaN</td>\n",
       "      <td>NaN</td>\n",
       "      <td>NaN</td>\n",
       "      <td>NaN</td>\n",
       "    </tr>\n",
       "    <tr>\n",
       "      <th>14</th>\n",
       "      <td>NaN</td>\n",
       "      <td>NaN</td>\n",
       "      <td>NaN</td>\n",
       "      <td>NaN</td>\n",
       "      <td>NaN</td>\n",
       "      <td>NaN</td>\n",
       "      <td>NaN</td>\n",
       "      <td>NaN</td>\n",
       "      <td>NaN</td>\n",
       "      <td>NaN</td>\n",
       "      <td>...</td>\n",
       "      <td>NaN</td>\n",
       "      <td>NaN</td>\n",
       "      <td>NaN</td>\n",
       "      <td>NaN</td>\n",
       "      <td>NaN</td>\n",
       "      <td>NaN</td>\n",
       "      <td>NaN</td>\n",
       "      <td>NaN</td>\n",
       "      <td>NaN</td>\n",
       "      <td>NaN</td>\n",
       "    </tr>\n",
       "    <tr>\n",
       "      <th>...</th>\n",
       "      <td>...</td>\n",
       "      <td>...</td>\n",
       "      <td>...</td>\n",
       "      <td>...</td>\n",
       "      <td>...</td>\n",
       "      <td>...</td>\n",
       "      <td>...</td>\n",
       "      <td>...</td>\n",
       "      <td>...</td>\n",
       "      <td>...</td>\n",
       "      <td>...</td>\n",
       "      <td>...</td>\n",
       "      <td>...</td>\n",
       "      <td>...</td>\n",
       "      <td>...</td>\n",
       "      <td>...</td>\n",
       "      <td>...</td>\n",
       "      <td>...</td>\n",
       "      <td>...</td>\n",
       "      <td>...</td>\n",
       "      <td>...</td>\n",
       "    </tr>\n",
       "    <tr>\n",
       "      <th>278846</th>\n",
       "      <td>NaN</td>\n",
       "      <td>NaN</td>\n",
       "      <td>NaN</td>\n",
       "      <td>NaN</td>\n",
       "      <td>NaN</td>\n",
       "      <td>NaN</td>\n",
       "      <td>NaN</td>\n",
       "      <td>NaN</td>\n",
       "      <td>NaN</td>\n",
       "      <td>NaN</td>\n",
       "      <td>...</td>\n",
       "      <td>NaN</td>\n",
       "      <td>NaN</td>\n",
       "      <td>NaN</td>\n",
       "      <td>NaN</td>\n",
       "      <td>NaN</td>\n",
       "      <td>NaN</td>\n",
       "      <td>NaN</td>\n",
       "      <td>NaN</td>\n",
       "      <td>NaN</td>\n",
       "      <td>NaN</td>\n",
       "    </tr>\n",
       "    <tr>\n",
       "      <th>278849</th>\n",
       "      <td>NaN</td>\n",
       "      <td>NaN</td>\n",
       "      <td>NaN</td>\n",
       "      <td>NaN</td>\n",
       "      <td>NaN</td>\n",
       "      <td>NaN</td>\n",
       "      <td>NaN</td>\n",
       "      <td>NaN</td>\n",
       "      <td>NaN</td>\n",
       "      <td>NaN</td>\n",
       "      <td>...</td>\n",
       "      <td>NaN</td>\n",
       "      <td>NaN</td>\n",
       "      <td>NaN</td>\n",
       "      <td>NaN</td>\n",
       "      <td>NaN</td>\n",
       "      <td>NaN</td>\n",
       "      <td>NaN</td>\n",
       "      <td>NaN</td>\n",
       "      <td>NaN</td>\n",
       "      <td>NaN</td>\n",
       "    </tr>\n",
       "    <tr>\n",
       "      <th>278851</th>\n",
       "      <td>NaN</td>\n",
       "      <td>NaN</td>\n",
       "      <td>NaN</td>\n",
       "      <td>NaN</td>\n",
       "      <td>NaN</td>\n",
       "      <td>NaN</td>\n",
       "      <td>NaN</td>\n",
       "      <td>NaN</td>\n",
       "      <td>NaN</td>\n",
       "      <td>NaN</td>\n",
       "      <td>...</td>\n",
       "      <td>NaN</td>\n",
       "      <td>NaN</td>\n",
       "      <td>NaN</td>\n",
       "      <td>NaN</td>\n",
       "      <td>NaN</td>\n",
       "      <td>NaN</td>\n",
       "      <td>NaN</td>\n",
       "      <td>NaN</td>\n",
       "      <td>NaN</td>\n",
       "      <td>NaN</td>\n",
       "    </tr>\n",
       "    <tr>\n",
       "      <th>278852</th>\n",
       "      <td>NaN</td>\n",
       "      <td>NaN</td>\n",
       "      <td>NaN</td>\n",
       "      <td>NaN</td>\n",
       "      <td>NaN</td>\n",
       "      <td>NaN</td>\n",
       "      <td>NaN</td>\n",
       "      <td>NaN</td>\n",
       "      <td>NaN</td>\n",
       "      <td>NaN</td>\n",
       "      <td>...</td>\n",
       "      <td>NaN</td>\n",
       "      <td>NaN</td>\n",
       "      <td>NaN</td>\n",
       "      <td>NaN</td>\n",
       "      <td>NaN</td>\n",
       "      <td>NaN</td>\n",
       "      <td>NaN</td>\n",
       "      <td>NaN</td>\n",
       "      <td>NaN</td>\n",
       "      <td>NaN</td>\n",
       "    </tr>\n",
       "    <tr>\n",
       "      <th>278854</th>\n",
       "      <td>NaN</td>\n",
       "      <td>NaN</td>\n",
       "      <td>NaN</td>\n",
       "      <td>NaN</td>\n",
       "      <td>NaN</td>\n",
       "      <td>NaN</td>\n",
       "      <td>NaN</td>\n",
       "      <td>NaN</td>\n",
       "      <td>NaN</td>\n",
       "      <td>NaN</td>\n",
       "      <td>...</td>\n",
       "      <td>NaN</td>\n",
       "      <td>NaN</td>\n",
       "      <td>NaN</td>\n",
       "      <td>NaN</td>\n",
       "      <td>NaN</td>\n",
       "      <td>NaN</td>\n",
       "      <td>NaN</td>\n",
       "      <td>NaN</td>\n",
       "      <td>NaN</td>\n",
       "      <td>NaN</td>\n",
       "    </tr>\n",
       "  </tbody>\n",
       "</table>\n",
       "<p>2182 rows × 2163 columns</p>\n",
       "</div>"
      ],
      "text/plain": [
       "Book.Title  '48  \\\n",
       "User.ID           \n",
       "8           NaN   \n",
       "9           NaN   \n",
       "10          NaN   \n",
       "12          NaN   \n",
       "14          NaN   \n",
       "...         ...   \n",
       "278846      NaN   \n",
       "278849      NaN   \n",
       "278851      NaN   \n",
       "278852      NaN   \n",
       "278854      NaN   \n",
       "\n",
       "Book.Title  'O Au No Keia: Voices from Hawai'I's Mahu and Transgender Communities  \\\n",
       "User.ID                                                                             \n",
       "8                                                         NaN                       \n",
       "9                                                         NaN                       \n",
       "10                                                        NaN                       \n",
       "12                                                        NaN                       \n",
       "14                                                        NaN                       \n",
       "...                                                       ...                       \n",
       "278846                                                    NaN                       \n",
       "278849                                                    NaN                       \n",
       "278851                                                    NaN                       \n",
       "278852                                                    NaN                       \n",
       "278854                                                    NaN                       \n",
       "\n",
       "Book.Title  101 Bright Ideas: Esl Activities for All Ages  101 Dalmatians  \\\n",
       "User.ID                                                                     \n",
       "8                                                     NaN             NaN   \n",
       "9                                                     NaN             NaN   \n",
       "10                                                    NaN             NaN   \n",
       "12                                                    NaN             NaN   \n",
       "14                                                    NaN             NaN   \n",
       "...                                                   ...             ...   \n",
       "278846                                                NaN             NaN   \n",
       "278849                                                NaN             NaN   \n",
       "278851                                                NaN             NaN   \n",
       "278852                                                NaN             NaN   \n",
       "278854                                                NaN             NaN   \n",
       "\n",
       "Book.Title  11th Hour  13 99 Euros  20,001 Names for Baby  \\\n",
       "User.ID                                                     \n",
       "8                 NaN          NaN                    NaN   \n",
       "9                 NaN          NaN                    NaN   \n",
       "10                NaN          NaN                    NaN   \n",
       "12                NaN          NaN                    NaN   \n",
       "14                NaN          NaN                    NaN   \n",
       "...               ...          ...                    ...   \n",
       "278846            NaN          NaN                    NaN   \n",
       "278849            NaN          NaN                    NaN   \n",
       "278851            NaN          NaN                    NaN   \n",
       "278852            NaN          NaN                    NaN   \n",
       "278854            NaN          NaN                    NaN   \n",
       "\n",
       "Book.Title  2001 Spanish and English Idioms/2001 Modismos Espanoles E Ingleses: 2001 Modismos Espanoles E Ingleses  \\\n",
       "User.ID                                                                                                              \n",
       "8                                                         NaN                                                        \n",
       "9                                                         NaN                                                        \n",
       "10                                                        NaN                                                        \n",
       "12                                                        NaN                                                        \n",
       "14                                                        NaN                                                        \n",
       "...                                                       ...                                                        \n",
       "278846                                                    NaN                                                        \n",
       "278849                                                    NaN                                                        \n",
       "278851                                                    NaN                                                        \n",
       "278852                                                    NaN                                                        \n",
       "278854                                                    NaN                                                        \n",
       "\n",
       "Book.Title  2061: Odyssey Three  253  ...  Your Oasis on Flame Lake  \\\n",
       "User.ID                               ...                             \n",
       "8                           NaN  NaN  ...                       NaN   \n",
       "9                           NaN  NaN  ...                       NaN   \n",
       "10                          NaN  NaN  ...                       NaN   \n",
       "12                          NaN  NaN  ...                       NaN   \n",
       "14                          NaN  NaN  ...                       NaN   \n",
       "...                         ...  ...  ...                       ...   \n",
       "278846                      NaN  NaN  ...                       NaN   \n",
       "278849                      NaN  NaN  ...                       NaN   \n",
       "278851                      NaN  NaN  ...                       NaN   \n",
       "278852                      NaN  NaN  ...                       NaN   \n",
       "278854                      NaN  NaN  ...                       NaN   \n",
       "\n",
       "Book.Title  Yours, Mine And ...Ours (Silhouette Special Edition, No 682)  \\\n",
       "User.ID                                                                    \n",
       "8                                                         NaN              \n",
       "9                                                         NaN              \n",
       "10                                                        NaN              \n",
       "12                                                        NaN              \n",
       "14                                                        NaN              \n",
       "...                                                       ...              \n",
       "278846                                                    NaN              \n",
       "278849                                                    NaN              \n",
       "278851                                                    NaN              \n",
       "278852                                                    NaN              \n",
       "278854                                                    NaN              \n",
       "\n",
       "Book.Title  Yukon Ho!  Yuwipi: Vision and Experience in Oglala Ritual  \\\n",
       "User.ID                                                                 \n",
       "8                 NaN                                             NaN   \n",
       "9                 NaN                                             NaN   \n",
       "10                NaN                                             NaN   \n",
       "12                NaN                                             NaN   \n",
       "14                NaN                                             NaN   \n",
       "...               ...                                             ...   \n",
       "278846            NaN                                             NaN   \n",
       "278849            NaN                                             NaN   \n",
       "278851            NaN                                             NaN   \n",
       "278852            NaN                                             NaN   \n",
       "278854            NaN                                             NaN   \n",
       "\n",
       "Book.Title  Zeit im Wind.  \\\n",
       "User.ID                     \n",
       "8                     NaN   \n",
       "9                     NaN   \n",
       "10                    NaN   \n",
       "12                    NaN   \n",
       "14                    NaN   \n",
       "...                   ...   \n",
       "278846                NaN   \n",
       "278849                NaN   \n",
       "278851                NaN   \n",
       "278852                NaN   \n",
       "278854                NaN   \n",
       "\n",
       "Book.Title  Zen in the Art of Archery (Vintage Spiritual Classics)  \\\n",
       "User.ID                                                              \n",
       "8                                                         NaN        \n",
       "9                                                         NaN        \n",
       "10                                                        NaN        \n",
       "12                                                        NaN        \n",
       "14                                                        NaN        \n",
       "...                                                       ...        \n",
       "278846                                                    NaN        \n",
       "278849                                                    NaN        \n",
       "278851                                                    NaN        \n",
       "278852                                                    NaN        \n",
       "278854                                                    NaN        \n",
       "\n",
       "Book.Title  Zlateh the Goat and Other Stories  Zodiac: The Eco-Thriller  \\\n",
       "User.ID                                                                   \n",
       "8                                         NaN                       NaN   \n",
       "9                                         NaN                       NaN   \n",
       "10                                        NaN                       NaN   \n",
       "12                                        NaN                       NaN   \n",
       "14                                        NaN                       NaN   \n",
       "...                                       ...                       ...   \n",
       "278846                                    NaN                       NaN   \n",
       "278849                                    NaN                       NaN   \n",
       "278851                                    NaN                       NaN   \n",
       "278852                                    NaN                       NaN   \n",
       "278854                                    NaN                       NaN   \n",
       "\n",
       "Book.Title  Zombies of the Gene Pool  \\\n",
       "User.ID                                \n",
       "8                                NaN   \n",
       "9                                NaN   \n",
       "10                               NaN   \n",
       "12                               NaN   \n",
       "14                               NaN   \n",
       "...                              ...   \n",
       "278846                           NaN   \n",
       "278849                           NaN   \n",
       "278851                           NaN   \n",
       "278852                           NaN   \n",
       "278854                           NaN   \n",
       "\n",
       "Book.Title  Zora Hurston and the Chinaberry Tree (Reading Rainbow Book)  \n",
       "User.ID                                                                  \n",
       "8                                                         NaN            \n",
       "9                                                         NaN            \n",
       "10                                                        NaN            \n",
       "12                                                        NaN            \n",
       "14                                                        NaN            \n",
       "...                                                       ...            \n",
       "278846                                                    NaN            \n",
       "278849                                                    NaN            \n",
       "278851                                                    NaN            \n",
       "278852                                                    NaN            \n",
       "278854                                                    NaN            \n",
       "\n",
       "[2182 rows x 2163 columns]"
      ]
     },
     "execution_count": 52,
     "metadata": {},
     "output_type": "execute_result"
    }
   ],
   "source": [
    "pivot"
   ]
  },
  {
   "cell_type": "code",
   "execution_count": 53,
   "id": "055bed57",
   "metadata": {
    "ExecuteTime": {
     "end_time": "2023-03-31T09:36:54.893054Z",
     "start_time": "2023-03-31T09:36:54.880063Z"
    }
   },
   "outputs": [],
   "source": [
    "from sklearn.metrics import pairwise_distances\n",
    "from scipy.spatial.distance import cosine"
   ]
  },
  {
   "cell_type": "code",
   "execution_count": 54,
   "id": "5fd0b0f5",
   "metadata": {
    "ExecuteTime": {
     "end_time": "2023-03-31T09:36:56.076293Z",
     "start_time": "2023-03-31T09:36:55.606301Z"
    }
   },
   "outputs": [],
   "source": [
    "pivot.fillna(0,inplace=True)"
   ]
  },
  {
   "cell_type": "code",
   "execution_count": 55,
   "id": "84b36130",
   "metadata": {
    "ExecuteTime": {
     "end_time": "2023-03-31T09:36:58.103329Z",
     "start_time": "2023-03-31T09:36:56.511318Z"
    }
   },
   "outputs": [
    {
     "data": {
      "text/plain": [
       "array([[0., 1., 1., ..., 1., 1., 1.],\n",
       "       [1., 0., 1., ..., 1., 1., 1.],\n",
       "       [1., 1., 0., ..., 1., 1., 1.],\n",
       "       ...,\n",
       "       [1., 1., 1., ..., 0., 1., 1.],\n",
       "       [1., 1., 1., ..., 1., 0., 1.],\n",
       "       [1., 1., 1., ..., 1., 1., 0.]])"
      ]
     },
     "execution_count": 55,
     "metadata": {},
     "output_type": "execute_result"
    }
   ],
   "source": [
    "dist = pairwise_distances(pivot, metric='cosine')\n",
    "dist"
   ]
  },
  {
   "cell_type": "code",
   "execution_count": 56,
   "id": "69cf5420",
   "metadata": {
    "ExecuteTime": {
     "end_time": "2023-03-31T09:37:00.555161Z",
     "start_time": "2023-03-31T09:36:59.019178Z"
    }
   },
   "outputs": [],
   "source": [
    "sim = 1-pairwise_distances(pivot, metric='cosine')"
   ]
  },
  {
   "cell_type": "code",
   "execution_count": 57,
   "id": "a0b09476",
   "metadata": {
    "ExecuteTime": {
     "end_time": "2023-03-31T09:37:01.181233Z",
     "start_time": "2023-03-31T09:37:01.155238Z"
    }
   },
   "outputs": [
    {
     "data": {
      "text/plain": [
       "array([[1., 0., 0., ..., 0., 0., 0.],\n",
       "       [0., 1., 0., ..., 0., 0., 0.],\n",
       "       [0., 0., 1., ..., 0., 0., 0.],\n",
       "       ...,\n",
       "       [0., 0., 0., ..., 1., 0., 0.],\n",
       "       [0., 0., 0., ..., 0., 1., 0.],\n",
       "       [0., 0., 0., ..., 0., 0., 1.]])"
      ]
     },
     "execution_count": 57,
     "metadata": {},
     "output_type": "execute_result"
    }
   ],
   "source": [
    "sim"
   ]
  },
  {
   "cell_type": "code",
   "execution_count": 58,
   "id": "113f7592",
   "metadata": {
    "ExecuteTime": {
     "end_time": "2023-03-31T09:37:02.124659Z",
     "start_time": "2023-03-31T09:37:02.001656Z"
    }
   },
   "outputs": [
    {
     "data": {
      "text/html": [
       "<div>\n",
       "<style scoped>\n",
       "    .dataframe tbody tr th:only-of-type {\n",
       "        vertical-align: middle;\n",
       "    }\n",
       "\n",
       "    .dataframe tbody tr th {\n",
       "        vertical-align: top;\n",
       "    }\n",
       "\n",
       "    .dataframe thead th {\n",
       "        text-align: right;\n",
       "    }\n",
       "</style>\n",
       "<table border=\"1\" class=\"dataframe\">\n",
       "  <thead>\n",
       "    <tr style=\"text-align: right;\">\n",
       "      <th></th>\n",
       "      <th>0</th>\n",
       "      <th>1</th>\n",
       "      <th>2</th>\n",
       "      <th>3</th>\n",
       "      <th>4</th>\n",
       "      <th>5</th>\n",
       "      <th>6</th>\n",
       "      <th>7</th>\n",
       "      <th>8</th>\n",
       "      <th>9</th>\n",
       "      <th>...</th>\n",
       "      <th>2172</th>\n",
       "      <th>2173</th>\n",
       "      <th>2174</th>\n",
       "      <th>2175</th>\n",
       "      <th>2176</th>\n",
       "      <th>2177</th>\n",
       "      <th>2178</th>\n",
       "      <th>2179</th>\n",
       "      <th>2180</th>\n",
       "      <th>2181</th>\n",
       "    </tr>\n",
       "  </thead>\n",
       "  <tbody>\n",
       "    <tr>\n",
       "      <th>0</th>\n",
       "      <td>1.0</td>\n",
       "      <td>0.0</td>\n",
       "      <td>0.0</td>\n",
       "      <td>0.0</td>\n",
       "      <td>0.0</td>\n",
       "      <td>0.0</td>\n",
       "      <td>0.0</td>\n",
       "      <td>0.0</td>\n",
       "      <td>0.0</td>\n",
       "      <td>0.0</td>\n",
       "      <td>...</td>\n",
       "      <td>0.0</td>\n",
       "      <td>0.0</td>\n",
       "      <td>0.0</td>\n",
       "      <td>0.0</td>\n",
       "      <td>0.0</td>\n",
       "      <td>0.0</td>\n",
       "      <td>0.0</td>\n",
       "      <td>0.0</td>\n",
       "      <td>0.0</td>\n",
       "      <td>0.0</td>\n",
       "    </tr>\n",
       "    <tr>\n",
       "      <th>1</th>\n",
       "      <td>0.0</td>\n",
       "      <td>1.0</td>\n",
       "      <td>0.0</td>\n",
       "      <td>0.0</td>\n",
       "      <td>0.0</td>\n",
       "      <td>0.0</td>\n",
       "      <td>0.0</td>\n",
       "      <td>0.0</td>\n",
       "      <td>0.0</td>\n",
       "      <td>0.0</td>\n",
       "      <td>...</td>\n",
       "      <td>0.0</td>\n",
       "      <td>0.0</td>\n",
       "      <td>0.0</td>\n",
       "      <td>0.0</td>\n",
       "      <td>0.0</td>\n",
       "      <td>0.0</td>\n",
       "      <td>0.0</td>\n",
       "      <td>0.0</td>\n",
       "      <td>0.0</td>\n",
       "      <td>0.0</td>\n",
       "    </tr>\n",
       "    <tr>\n",
       "      <th>2</th>\n",
       "      <td>0.0</td>\n",
       "      <td>0.0</td>\n",
       "      <td>1.0</td>\n",
       "      <td>0.0</td>\n",
       "      <td>0.0</td>\n",
       "      <td>0.0</td>\n",
       "      <td>0.0</td>\n",
       "      <td>0.0</td>\n",
       "      <td>0.0</td>\n",
       "      <td>0.0</td>\n",
       "      <td>...</td>\n",
       "      <td>0.0</td>\n",
       "      <td>0.0</td>\n",
       "      <td>0.0</td>\n",
       "      <td>0.0</td>\n",
       "      <td>0.0</td>\n",
       "      <td>0.0</td>\n",
       "      <td>0.0</td>\n",
       "      <td>0.0</td>\n",
       "      <td>0.0</td>\n",
       "      <td>0.0</td>\n",
       "    </tr>\n",
       "    <tr>\n",
       "      <th>3</th>\n",
       "      <td>0.0</td>\n",
       "      <td>0.0</td>\n",
       "      <td>0.0</td>\n",
       "      <td>1.0</td>\n",
       "      <td>0.0</td>\n",
       "      <td>0.0</td>\n",
       "      <td>0.0</td>\n",
       "      <td>0.0</td>\n",
       "      <td>0.0</td>\n",
       "      <td>0.0</td>\n",
       "      <td>...</td>\n",
       "      <td>0.0</td>\n",
       "      <td>0.0</td>\n",
       "      <td>0.0</td>\n",
       "      <td>0.0</td>\n",
       "      <td>0.0</td>\n",
       "      <td>0.0</td>\n",
       "      <td>0.0</td>\n",
       "      <td>0.0</td>\n",
       "      <td>0.0</td>\n",
       "      <td>0.0</td>\n",
       "    </tr>\n",
       "    <tr>\n",
       "      <th>4</th>\n",
       "      <td>0.0</td>\n",
       "      <td>0.0</td>\n",
       "      <td>0.0</td>\n",
       "      <td>0.0</td>\n",
       "      <td>1.0</td>\n",
       "      <td>0.0</td>\n",
       "      <td>0.0</td>\n",
       "      <td>0.0</td>\n",
       "      <td>0.0</td>\n",
       "      <td>0.0</td>\n",
       "      <td>...</td>\n",
       "      <td>0.0</td>\n",
       "      <td>0.0</td>\n",
       "      <td>0.0</td>\n",
       "      <td>0.0</td>\n",
       "      <td>0.0</td>\n",
       "      <td>0.0</td>\n",
       "      <td>0.0</td>\n",
       "      <td>0.0</td>\n",
       "      <td>0.0</td>\n",
       "      <td>0.0</td>\n",
       "    </tr>\n",
       "    <tr>\n",
       "      <th>...</th>\n",
       "      <td>...</td>\n",
       "      <td>...</td>\n",
       "      <td>...</td>\n",
       "      <td>...</td>\n",
       "      <td>...</td>\n",
       "      <td>...</td>\n",
       "      <td>...</td>\n",
       "      <td>...</td>\n",
       "      <td>...</td>\n",
       "      <td>...</td>\n",
       "      <td>...</td>\n",
       "      <td>...</td>\n",
       "      <td>...</td>\n",
       "      <td>...</td>\n",
       "      <td>...</td>\n",
       "      <td>...</td>\n",
       "      <td>...</td>\n",
       "      <td>...</td>\n",
       "      <td>...</td>\n",
       "      <td>...</td>\n",
       "      <td>...</td>\n",
       "    </tr>\n",
       "    <tr>\n",
       "      <th>2177</th>\n",
       "      <td>0.0</td>\n",
       "      <td>0.0</td>\n",
       "      <td>0.0</td>\n",
       "      <td>0.0</td>\n",
       "      <td>0.0</td>\n",
       "      <td>0.0</td>\n",
       "      <td>0.0</td>\n",
       "      <td>0.0</td>\n",
       "      <td>0.0</td>\n",
       "      <td>0.0</td>\n",
       "      <td>...</td>\n",
       "      <td>0.0</td>\n",
       "      <td>0.0</td>\n",
       "      <td>0.0</td>\n",
       "      <td>0.0</td>\n",
       "      <td>0.0</td>\n",
       "      <td>1.0</td>\n",
       "      <td>0.0</td>\n",
       "      <td>0.0</td>\n",
       "      <td>0.0</td>\n",
       "      <td>0.0</td>\n",
       "    </tr>\n",
       "    <tr>\n",
       "      <th>2178</th>\n",
       "      <td>0.0</td>\n",
       "      <td>0.0</td>\n",
       "      <td>0.0</td>\n",
       "      <td>0.0</td>\n",
       "      <td>0.0</td>\n",
       "      <td>0.0</td>\n",
       "      <td>0.0</td>\n",
       "      <td>0.0</td>\n",
       "      <td>0.0</td>\n",
       "      <td>0.0</td>\n",
       "      <td>...</td>\n",
       "      <td>0.0</td>\n",
       "      <td>0.0</td>\n",
       "      <td>0.0</td>\n",
       "      <td>0.0</td>\n",
       "      <td>0.0</td>\n",
       "      <td>0.0</td>\n",
       "      <td>1.0</td>\n",
       "      <td>0.0</td>\n",
       "      <td>0.0</td>\n",
       "      <td>0.0</td>\n",
       "    </tr>\n",
       "    <tr>\n",
       "      <th>2179</th>\n",
       "      <td>0.0</td>\n",
       "      <td>0.0</td>\n",
       "      <td>0.0</td>\n",
       "      <td>0.0</td>\n",
       "      <td>0.0</td>\n",
       "      <td>0.0</td>\n",
       "      <td>0.0</td>\n",
       "      <td>0.0</td>\n",
       "      <td>0.0</td>\n",
       "      <td>0.0</td>\n",
       "      <td>...</td>\n",
       "      <td>0.0</td>\n",
       "      <td>0.0</td>\n",
       "      <td>0.0</td>\n",
       "      <td>0.0</td>\n",
       "      <td>0.0</td>\n",
       "      <td>0.0</td>\n",
       "      <td>0.0</td>\n",
       "      <td>1.0</td>\n",
       "      <td>0.0</td>\n",
       "      <td>0.0</td>\n",
       "    </tr>\n",
       "    <tr>\n",
       "      <th>2180</th>\n",
       "      <td>0.0</td>\n",
       "      <td>0.0</td>\n",
       "      <td>0.0</td>\n",
       "      <td>0.0</td>\n",
       "      <td>0.0</td>\n",
       "      <td>0.0</td>\n",
       "      <td>0.0</td>\n",
       "      <td>0.0</td>\n",
       "      <td>0.0</td>\n",
       "      <td>0.0</td>\n",
       "      <td>...</td>\n",
       "      <td>0.0</td>\n",
       "      <td>0.0</td>\n",
       "      <td>0.0</td>\n",
       "      <td>0.0</td>\n",
       "      <td>0.0</td>\n",
       "      <td>0.0</td>\n",
       "      <td>0.0</td>\n",
       "      <td>0.0</td>\n",
       "      <td>1.0</td>\n",
       "      <td>0.0</td>\n",
       "    </tr>\n",
       "    <tr>\n",
       "      <th>2181</th>\n",
       "      <td>0.0</td>\n",
       "      <td>0.0</td>\n",
       "      <td>0.0</td>\n",
       "      <td>0.0</td>\n",
       "      <td>0.0</td>\n",
       "      <td>0.0</td>\n",
       "      <td>0.0</td>\n",
       "      <td>0.0</td>\n",
       "      <td>0.0</td>\n",
       "      <td>0.0</td>\n",
       "      <td>...</td>\n",
       "      <td>0.0</td>\n",
       "      <td>0.0</td>\n",
       "      <td>0.0</td>\n",
       "      <td>0.0</td>\n",
       "      <td>0.0</td>\n",
       "      <td>0.0</td>\n",
       "      <td>0.0</td>\n",
       "      <td>0.0</td>\n",
       "      <td>0.0</td>\n",
       "      <td>1.0</td>\n",
       "    </tr>\n",
       "  </tbody>\n",
       "</table>\n",
       "<p>2182 rows × 2182 columns</p>\n",
       "</div>"
      ],
      "text/plain": [
       "      0     1     2     3     4     5     6     7     8     9     ...  2172  \\\n",
       "0      1.0   0.0   0.0   0.0   0.0   0.0   0.0   0.0   0.0   0.0  ...   0.0   \n",
       "1      0.0   1.0   0.0   0.0   0.0   0.0   0.0   0.0   0.0   0.0  ...   0.0   \n",
       "2      0.0   0.0   1.0   0.0   0.0   0.0   0.0   0.0   0.0   0.0  ...   0.0   \n",
       "3      0.0   0.0   0.0   1.0   0.0   0.0   0.0   0.0   0.0   0.0  ...   0.0   \n",
       "4      0.0   0.0   0.0   0.0   1.0   0.0   0.0   0.0   0.0   0.0  ...   0.0   \n",
       "...    ...   ...   ...   ...   ...   ...   ...   ...   ...   ...  ...   ...   \n",
       "2177   0.0   0.0   0.0   0.0   0.0   0.0   0.0   0.0   0.0   0.0  ...   0.0   \n",
       "2178   0.0   0.0   0.0   0.0   0.0   0.0   0.0   0.0   0.0   0.0  ...   0.0   \n",
       "2179   0.0   0.0   0.0   0.0   0.0   0.0   0.0   0.0   0.0   0.0  ...   0.0   \n",
       "2180   0.0   0.0   0.0   0.0   0.0   0.0   0.0   0.0   0.0   0.0  ...   0.0   \n",
       "2181   0.0   0.0   0.0   0.0   0.0   0.0   0.0   0.0   0.0   0.0  ...   0.0   \n",
       "\n",
       "      2173  2174  2175  2176  2177  2178  2179  2180  2181  \n",
       "0      0.0   0.0   0.0   0.0   0.0   0.0   0.0   0.0   0.0  \n",
       "1      0.0   0.0   0.0   0.0   0.0   0.0   0.0   0.0   0.0  \n",
       "2      0.0   0.0   0.0   0.0   0.0   0.0   0.0   0.0   0.0  \n",
       "3      0.0   0.0   0.0   0.0   0.0   0.0   0.0   0.0   0.0  \n",
       "4      0.0   0.0   0.0   0.0   0.0   0.0   0.0   0.0   0.0  \n",
       "...    ...   ...   ...   ...   ...   ...   ...   ...   ...  \n",
       "2177   0.0   0.0   0.0   0.0   1.0   0.0   0.0   0.0   0.0  \n",
       "2178   0.0   0.0   0.0   0.0   0.0   1.0   0.0   0.0   0.0  \n",
       "2179   0.0   0.0   0.0   0.0   0.0   0.0   1.0   0.0   0.0  \n",
       "2180   0.0   0.0   0.0   0.0   0.0   0.0   0.0   1.0   0.0  \n",
       "2181   0.0   0.0   0.0   0.0   0.0   0.0   0.0   0.0   1.0  \n",
       "\n",
       "[2182 rows x 2182 columns]"
      ]
     },
     "execution_count": 58,
     "metadata": {},
     "output_type": "execute_result"
    }
   ],
   "source": [
    "similarity = pd.DataFrame(sim)\n",
    "similarity"
   ]
  },
  {
   "cell_type": "code",
   "execution_count": 59,
   "id": "1ba4e162",
   "metadata": {
    "ExecuteTime": {
     "end_time": "2023-03-31T09:37:03.217894Z",
     "start_time": "2023-03-31T09:37:03.209887Z"
    }
   },
   "outputs": [],
   "source": [
    "np.fill_diagonal(similarity.values,0)"
   ]
  },
  {
   "cell_type": "code",
   "execution_count": 60,
   "id": "a65b7fbb",
   "metadata": {
    "ExecuteTime": {
     "end_time": "2023-03-31T09:37:06.713647Z",
     "start_time": "2023-03-31T09:37:06.694655Z"
    }
   },
   "outputs": [],
   "source": [
    "similarity.index = df['User.ID']\n",
    "similarity.columns = df['User.ID']"
   ]
  },
  {
   "cell_type": "code",
   "execution_count": 61,
   "id": "3d3581b7",
   "metadata": {
    "ExecuteTime": {
     "end_time": "2023-03-31T09:37:09.342391Z",
     "start_time": "2023-03-31T09:37:09.105392Z"
    }
   },
   "outputs": [
    {
     "data": {
      "text/plain": [
       "User.ID\n",
       "276726    276726\n",
       "276729    276726\n",
       "276736    276726\n",
       "276737    276726\n",
       "276744    276726\n",
       "           ...  \n",
       "162107    276726\n",
       "162109    276726\n",
       "162113    276726\n",
       "162121    276726\n",
       "162129    276726\n",
       "Length: 2182, dtype: int64"
      ]
     },
     "execution_count": 61,
     "metadata": {},
     "output_type": "execute_result"
    }
   ],
   "source": [
    "similarity.idxmax()"
   ]
  },
  {
   "cell_type": "code",
   "execution_count": 62,
   "id": "41b99e3d",
   "metadata": {
    "ExecuteTime": {
     "end_time": "2023-03-31T09:37:10.746450Z",
     "start_time": "2023-03-31T09:37:10.705452Z"
    }
   },
   "outputs": [
    {
     "data": {
      "text/html": [
       "<div>\n",
       "<style scoped>\n",
       "    .dataframe tbody tr th:only-of-type {\n",
       "        vertical-align: middle;\n",
       "    }\n",
       "\n",
       "    .dataframe tbody tr th {\n",
       "        vertical-align: top;\n",
       "    }\n",
       "\n",
       "    .dataframe thead th {\n",
       "        text-align: right;\n",
       "    }\n",
       "</style>\n",
       "<table border=\"1\" class=\"dataframe\">\n",
       "  <thead>\n",
       "    <tr style=\"text-align: right;\">\n",
       "      <th></th>\n",
       "      <th>Unnamed: 0</th>\n",
       "      <th>User.ID</th>\n",
       "      <th>Book.Title</th>\n",
       "      <th>Book.Rating</th>\n",
       "    </tr>\n",
       "  </thead>\n",
       "  <tbody>\n",
       "    <tr>\n",
       "      <th>0</th>\n",
       "      <td>1</td>\n",
       "      <td>276726</td>\n",
       "      <td>Classical Mythology</td>\n",
       "      <td>5</td>\n",
       "    </tr>\n",
       "    <tr>\n",
       "      <th>15</th>\n",
       "      <td>16</td>\n",
       "      <td>276755</td>\n",
       "      <td>The Witchfinder (Amos Walker Mystery Series)</td>\n",
       "      <td>5</td>\n",
       "    </tr>\n",
       "  </tbody>\n",
       "</table>\n",
       "</div>"
      ],
      "text/plain": [
       "    Unnamed: 0  User.ID                                    Book.Title  \\\n",
       "0            1   276726                           Classical Mythology   \n",
       "15          16   276755  The Witchfinder (Amos Walker Mystery Series)   \n",
       "\n",
       "    Book.Rating  \n",
       "0             5  \n",
       "15            5  "
      ]
     },
     "execution_count": 62,
     "metadata": {},
     "output_type": "execute_result"
    }
   ],
   "source": [
    "df[(df['User.ID']==276726) | (df['User.ID'] == 276755)]"
   ]
  },
  {
   "cell_type": "code",
   "execution_count": null,
   "id": "399ad658",
   "metadata": {},
   "outputs": [],
   "source": []
  }
 ],
 "metadata": {
  "kernelspec": {
   "display_name": "Python 3 (ipykernel)",
   "language": "python",
   "name": "python3"
  },
  "language_info": {
   "codemirror_mode": {
    "name": "ipython",
    "version": 3
   },
   "file_extension": ".py",
   "mimetype": "text/x-python",
   "name": "python",
   "nbconvert_exporter": "python",
   "pygments_lexer": "ipython3",
   "version": "3.9.12"
  }
 },
 "nbformat": 4,
 "nbformat_minor": 5
}
